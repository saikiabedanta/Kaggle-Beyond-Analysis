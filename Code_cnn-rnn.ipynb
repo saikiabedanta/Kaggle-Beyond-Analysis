{
  "nbformat": 4,
  "nbformat_minor": 5,
  "metadata": {
    "kernelspec": {
      "display_name": "Python 3",
      "language": "python",
      "name": "python3"
    },
    "language_info": {
      "codemirror_mode": {
        "name": "ipython",
        "version": 3
      },
      "file_extension": ".py",
      "mimetype": "text/x-python",
      "name": "python",
      "nbconvert_exporter": "python",
      "pygments_lexer": "ipython3",
      "version": "3.8.8"
    },
    "colab": {
      "name": "cnn_rnn_model (1).ipynb",
      "provenance": [],
      "collapsed_sections": []
    },
    "accelerator": "GPU"
  },
  "cells": [
    {
      "cell_type": "code",
      "metadata": {
        "id": "7gY4UwtfsahW"
      },
      "source": [
        ""
      ],
      "id": "7gY4UwtfsahW",
      "execution_count": null,
      "outputs": []
    },
    {
      "cell_type": "code",
      "metadata": {
        "colab": {
          "base_uri": "https://localhost:8080/"
        },
        "id": "ACI3EUHQsdjM",
        "outputId": "c0b714ab-879b-4076-9603-c3ef265b3b77"
      },
      "source": [
        "from google.colab import drive\n",
        "drive.mount('/content/drive')"
      ],
      "id": "ACI3EUHQsdjM",
      "execution_count": 1,
      "outputs": [
        {
          "output_type": "stream",
          "name": "stdout",
          "text": [
            "Mounted at /content/drive\n"
          ]
        }
      ]
    },
    {
      "cell_type": "code",
      "metadata": {
        "id": "d22fb66d"
      },
      "source": [
        "import numpy as np\n",
        "import pandas as pd\n",
        "import matplotlib.pyplot as plt\n",
        "import seaborn as sns\n",
        "import tensorflow as tf\n",
        "import tensorflow.keras.layers as tfl\n",
        "from tensorflow import keras"
      ],
      "id": "d22fb66d",
      "execution_count": 2,
      "outputs": []
    },
    {
      "cell_type": "code",
      "metadata": {
        "id": "LE2T4MPZvYO8",
        "colab": {
          "base_uri": "https://localhost:8080/"
        },
        "outputId": "ac2b6eec-1639-44c5-89f2-4a961d889cd0"
      },
      "source": [
        "device_name = tf.test.gpu_device_name()\n",
        "if device_name != '/device:GPU:0':\n",
        "  raise SystemError('GPU device not found')\n",
        "print('Found GPU at: {}'.format(device_name))"
      ],
      "id": "LE2T4MPZvYO8",
      "execution_count": 3,
      "outputs": [
        {
          "output_type": "stream",
          "name": "stdout",
          "text": [
            "Found GPU at: /device:GPU:0\n"
          ]
        }
      ]
    },
    {
      "cell_type": "code",
      "metadata": {
        "id": "mFFbPJ4mviry",
        "colab": {
          "base_uri": "https://localhost:8080/"
        },
        "outputId": "c50b3417-f8bf-44fc-9940-8bcbed35f85a"
      },
      "source": [
        "!nvidia-smi"
      ],
      "id": "mFFbPJ4mviry",
      "execution_count": 4,
      "outputs": [
        {
          "output_type": "stream",
          "name": "stdout",
          "text": [
            "Wed Sep  1 10:45:13 2021       \n",
            "+-----------------------------------------------------------------------------+\n",
            "| NVIDIA-SMI 470.57.02    Driver Version: 460.32.03    CUDA Version: 11.2     |\n",
            "|-------------------------------+----------------------+----------------------+\n",
            "| GPU  Name        Persistence-M| Bus-Id        Disp.A | Volatile Uncorr. ECC |\n",
            "| Fan  Temp  Perf  Pwr:Usage/Cap|         Memory-Usage | GPU-Util  Compute M. |\n",
            "|                               |                      |               MIG M. |\n",
            "|===============================+======================+======================|\n",
            "|   0  Tesla K80           Off  | 00000000:00:04.0 Off |                    0 |\n",
            "| N/A   37C    P0    57W / 149W |    121MiB / 11441MiB |      0%      Default |\n",
            "|                               |                      |                  N/A |\n",
            "+-------------------------------+----------------------+----------------------+\n",
            "                                                                               \n",
            "+-----------------------------------------------------------------------------+\n",
            "| Processes:                                                                  |\n",
            "|  GPU   GI   CI        PID   Type   Process name                  GPU Memory |\n",
            "|        ID   ID                                                   Usage      |\n",
            "|=============================================================================|\n",
            "|  No running processes found                                                 |\n",
            "+-----------------------------------------------------------------------------+\n"
          ]
        }
      ]
    },
    {
      "cell_type": "code",
      "metadata": {
        "id": "9672de6b"
      },
      "source": [
        "from keras import layers\n",
        "from keras import Input\n",
        "from keras import optimizers\n",
        "from keras.models import Model\n",
        "from keras.layers import Dropout, Flatten, Conv1D,LSTM,Bidirectional\n",
        "import random"
      ],
      "id": "9672de6b",
      "execution_count": 5,
      "outputs": []
    },
    {
      "cell_type": "code",
      "metadata": {
        "id": "d885e601"
      },
      "source": [
        "from sklearn.preprocessing import StandardScaler\n",
        "from platform import python_version\n",
        "from keras.constraints import maxnorm"
      ],
      "id": "d885e601",
      "execution_count": 6,
      "outputs": []
    },
    {
      "cell_type": "code",
      "metadata": {
        "id": "bd342d6f"
      },
      "source": [
        "data = pd.read_csv(\"/content/drive/MyDrive/techniche/train.csv\")\n",
        "test = pd.read_csv(\"/content/drive/MyDrive/techniche/test.csv\")"
      ],
      "id": "bd342d6f",
      "execution_count": 7,
      "outputs": []
    },
    {
      "cell_type": "code",
      "metadata": {
        "id": "b9bddaa3"
      },
      "source": [
        "def one_hot_encoder(df, features):\n",
        "    dummies = pd.get_dummies(df[features], drop_first=True)\n",
        "    res = pd.concat([df, dummies], axis=1)\n",
        "    res = res.drop(features, axis=1)\n",
        "    return(res)"
      ],
      "id": "b9bddaa3",
      "execution_count": 8,
      "outputs": []
    },
    {
      "cell_type": "code",
      "metadata": {
        "id": "5f7d7246"
      },
      "source": [
        "categorical_cols = list(data.select_dtypes(include=[\"object\"]).columns)\n",
        "data_onehot = one_hot_encoder(data, categorical_cols)\n",
        "test_onehot = one_hot_encoder(test, categorical_cols)"
      ],
      "id": "5f7d7246",
      "execution_count": 9,
      "outputs": []
    },
    {
      "cell_type": "code",
      "metadata": {
        "id": "c5e9ace8",
        "colab": {
          "base_uri": "https://localhost:8080/",
          "height": 223
        },
        "outputId": "e2d8ca41-b01d-4be5-b1ef-a4cfc31f8cc5"
      },
      "source": [
        "cols_train = list(data_onehot.columns[:25]) + ['CATEGORY_1_D', 'CATEGORY_1_E'] + list(data_onehot.columns[25:])\n",
        "cols_train\n",
        "data_onehot['CATEGORY_1_D']=0\n",
        "data_onehot['CATEGORY_1_E']=0\n",
        "data_onehot = data_onehot[cols_train]\n",
        "data_onehot.head()"
      ],
      "id": "c5e9ace8",
      "execution_count": 10,
      "outputs": [
        {
          "output_type": "execute_result",
          "data": {
            "text/html": [
              "<div>\n",
              "<style scoped>\n",
              "    .dataframe tbody tr th:only-of-type {\n",
              "        vertical-align: middle;\n",
              "    }\n",
              "\n",
              "    .dataframe tbody tr th {\n",
              "        vertical-align: top;\n",
              "    }\n",
              "\n",
              "    .dataframe thead th {\n",
              "        text-align: right;\n",
              "    }\n",
              "</style>\n",
              "<table border=\"1\" class=\"dataframe\">\n",
              "  <thead>\n",
              "    <tr style=\"text-align: right;\">\n",
              "      <th></th>\n",
              "      <th>UNIQUE_IDENTIFIER</th>\n",
              "      <th>SEQUENCE_NO</th>\n",
              "      <th>STATUS_CHECK</th>\n",
              "      <th>ACTIVE_YN</th>\n",
              "      <th>ENTRY</th>\n",
              "      <th>REVENUE</th>\n",
              "      <th>WINNINGS_1</th>\n",
              "      <th>WINNINGS_2</th>\n",
              "      <th>DISCOUNT</th>\n",
              "      <th>DEPOSIT</th>\n",
              "      <th>DEPOSIT_NUMBER</th>\n",
              "      <th>DEPOSIT_2</th>\n",
              "      <th>WITHDRAW</th>\n",
              "      <th>WITHDRAW_NUMBER</th>\n",
              "      <th>DEPOSIT_TRAILS</th>\n",
              "      <th>ENTRY_NUMBER</th>\n",
              "      <th>WINNINGS_NUMBER</th>\n",
              "      <th>PRACTICE_ENTRY</th>\n",
              "      <th>PRACTICE_WINNINGS</th>\n",
              "      <th>PRACTICE_ENTRY_NUMBER</th>\n",
              "      <th>PRACTICE_WINNINGS_NUMBER</th>\n",
              "      <th>Y1</th>\n",
              "      <th>Y2</th>\n",
              "      <th>CATEGORY_1_B</th>\n",
              "      <th>CATEGORY_1_C</th>\n",
              "      <th>CATEGORY_1_D</th>\n",
              "      <th>CATEGORY_1_E</th>\n",
              "      <th>CATEGORY_1_F</th>\n",
              "      <th>CATEGORY_1_G</th>\n",
              "      <th>CATEGORY_1_I</th>\n",
              "      <th>CATEGORY_1_J</th>\n",
              "      <th>CATEGORY_1_K</th>\n",
              "      <th>CATEGORY_1_L</th>\n",
              "      <th>CATEGORY_1_M</th>\n",
              "      <th>CATEGORY_2_B</th>\n",
              "      <th>CATEGORY_2_C</th>\n",
              "      <th>CATEGORY_2_D</th>\n",
              "      <th>CATEGORY_2_E</th>\n",
              "      <th>CATEGORY_2_F</th>\n",
              "      <th>CATEGORY_2_G</th>\n",
              "      <th>CATEGORY_2_H</th>\n",
              "      <th>CATEGORY_2_I</th>\n",
              "    </tr>\n",
              "  </thead>\n",
              "  <tbody>\n",
              "    <tr>\n",
              "      <th>0</th>\n",
              "      <td>98481267304</td>\n",
              "      <td>1</td>\n",
              "      <td>0</td>\n",
              "      <td>1</td>\n",
              "      <td>0.00000</td>\n",
              "      <td>0.000000</td>\n",
              "      <td>0.0000</td>\n",
              "      <td>0.0</td>\n",
              "      <td>0.0</td>\n",
              "      <td>0.25</td>\n",
              "      <td>0.1</td>\n",
              "      <td>0.25</td>\n",
              "      <td>0.0</td>\n",
              "      <td>0.0</td>\n",
              "      <td>0.0</td>\n",
              "      <td>0.0</td>\n",
              "      <td>0.0</td>\n",
              "      <td>0.0</td>\n",
              "      <td>0.0</td>\n",
              "      <td>0.0</td>\n",
              "      <td>0.0</td>\n",
              "      <td>4.449287</td>\n",
              "      <td>101.369863</td>\n",
              "      <td>0</td>\n",
              "      <td>0</td>\n",
              "      <td>0</td>\n",
              "      <td>0</td>\n",
              "      <td>0</td>\n",
              "      <td>0</td>\n",
              "      <td>0</td>\n",
              "      <td>0</td>\n",
              "      <td>0</td>\n",
              "      <td>0</td>\n",
              "      <td>1</td>\n",
              "      <td>1</td>\n",
              "      <td>0</td>\n",
              "      <td>0</td>\n",
              "      <td>0</td>\n",
              "      <td>0</td>\n",
              "      <td>0</td>\n",
              "      <td>0</td>\n",
              "      <td>0</td>\n",
              "    </tr>\n",
              "    <tr>\n",
              "      <th>1</th>\n",
              "      <td>98481267304</td>\n",
              "      <td>2</td>\n",
              "      <td>0</td>\n",
              "      <td>1</td>\n",
              "      <td>0.13735</td>\n",
              "      <td>0.011550</td>\n",
              "      <td>0.0999</td>\n",
              "      <td>0.0</td>\n",
              "      <td>0.0</td>\n",
              "      <td>0.00</td>\n",
              "      <td>0.0</td>\n",
              "      <td>0.00</td>\n",
              "      <td>0.0</td>\n",
              "      <td>0.0</td>\n",
              "      <td>0.0</td>\n",
              "      <td>1.8</td>\n",
              "      <td>1.0</td>\n",
              "      <td>0.0</td>\n",
              "      <td>0.0</td>\n",
              "      <td>0.0</td>\n",
              "      <td>0.0</td>\n",
              "      <td>4.449287</td>\n",
              "      <td>101.369863</td>\n",
              "      <td>0</td>\n",
              "      <td>0</td>\n",
              "      <td>0</td>\n",
              "      <td>0</td>\n",
              "      <td>0</td>\n",
              "      <td>0</td>\n",
              "      <td>0</td>\n",
              "      <td>0</td>\n",
              "      <td>0</td>\n",
              "      <td>0</td>\n",
              "      <td>1</td>\n",
              "      <td>1</td>\n",
              "      <td>0</td>\n",
              "      <td>0</td>\n",
              "      <td>0</td>\n",
              "      <td>0</td>\n",
              "      <td>0</td>\n",
              "      <td>0</td>\n",
              "      <td>0</td>\n",
              "    </tr>\n",
              "    <tr>\n",
              "      <th>2</th>\n",
              "      <td>98481267304</td>\n",
              "      <td>3</td>\n",
              "      <td>0</td>\n",
              "      <td>1</td>\n",
              "      <td>0.15835</td>\n",
              "      <td>0.010425</td>\n",
              "      <td>0.0242</td>\n",
              "      <td>0.0</td>\n",
              "      <td>0.0</td>\n",
              "      <td>0.00</td>\n",
              "      <td>0.0</td>\n",
              "      <td>0.00</td>\n",
              "      <td>0.0</td>\n",
              "      <td>0.0</td>\n",
              "      <td>0.0</td>\n",
              "      <td>0.7</td>\n",
              "      <td>0.3</td>\n",
              "      <td>0.0</td>\n",
              "      <td>0.0</td>\n",
              "      <td>0.0</td>\n",
              "      <td>0.0</td>\n",
              "      <td>4.449287</td>\n",
              "      <td>101.369863</td>\n",
              "      <td>0</td>\n",
              "      <td>0</td>\n",
              "      <td>0</td>\n",
              "      <td>0</td>\n",
              "      <td>0</td>\n",
              "      <td>0</td>\n",
              "      <td>0</td>\n",
              "      <td>0</td>\n",
              "      <td>0</td>\n",
              "      <td>0</td>\n",
              "      <td>1</td>\n",
              "      <td>1</td>\n",
              "      <td>0</td>\n",
              "      <td>0</td>\n",
              "      <td>0</td>\n",
              "      <td>0</td>\n",
              "      <td>0</td>\n",
              "      <td>0</td>\n",
              "      <td>0</td>\n",
              "    </tr>\n",
              "    <tr>\n",
              "      <th>3</th>\n",
              "      <td>98481267304</td>\n",
              "      <td>4</td>\n",
              "      <td>0</td>\n",
              "      <td>1</td>\n",
              "      <td>0.44490</td>\n",
              "      <td>0.035850</td>\n",
              "      <td>0.2398</td>\n",
              "      <td>0.0</td>\n",
              "      <td>0.0</td>\n",
              "      <td>0.00</td>\n",
              "      <td>0.0</td>\n",
              "      <td>0.00</td>\n",
              "      <td>0.0</td>\n",
              "      <td>0.0</td>\n",
              "      <td>0.0</td>\n",
              "      <td>2.8</td>\n",
              "      <td>1.5</td>\n",
              "      <td>0.0</td>\n",
              "      <td>0.0</td>\n",
              "      <td>0.0</td>\n",
              "      <td>0.0</td>\n",
              "      <td>4.449287</td>\n",
              "      <td>101.369863</td>\n",
              "      <td>0</td>\n",
              "      <td>0</td>\n",
              "      <td>0</td>\n",
              "      <td>0</td>\n",
              "      <td>0</td>\n",
              "      <td>0</td>\n",
              "      <td>0</td>\n",
              "      <td>0</td>\n",
              "      <td>0</td>\n",
              "      <td>0</td>\n",
              "      <td>1</td>\n",
              "      <td>1</td>\n",
              "      <td>0</td>\n",
              "      <td>0</td>\n",
              "      <td>0</td>\n",
              "      <td>0</td>\n",
              "      <td>0</td>\n",
              "      <td>0</td>\n",
              "      <td>0</td>\n",
              "    </tr>\n",
              "    <tr>\n",
              "      <th>4</th>\n",
              "      <td>98481267304</td>\n",
              "      <td>5</td>\n",
              "      <td>0</td>\n",
              "      <td>1</td>\n",
              "      <td>0.00000</td>\n",
              "      <td>0.000000</td>\n",
              "      <td>0.0000</td>\n",
              "      <td>0.0</td>\n",
              "      <td>0.0</td>\n",
              "      <td>0.00</td>\n",
              "      <td>0.0</td>\n",
              "      <td>0.00</td>\n",
              "      <td>0.0</td>\n",
              "      <td>0.0</td>\n",
              "      <td>0.0</td>\n",
              "      <td>0.0</td>\n",
              "      <td>0.0</td>\n",
              "      <td>0.0</td>\n",
              "      <td>0.0</td>\n",
              "      <td>0.0</td>\n",
              "      <td>0.0</td>\n",
              "      <td>4.449287</td>\n",
              "      <td>101.369863</td>\n",
              "      <td>0</td>\n",
              "      <td>0</td>\n",
              "      <td>0</td>\n",
              "      <td>0</td>\n",
              "      <td>0</td>\n",
              "      <td>0</td>\n",
              "      <td>0</td>\n",
              "      <td>0</td>\n",
              "      <td>0</td>\n",
              "      <td>0</td>\n",
              "      <td>1</td>\n",
              "      <td>1</td>\n",
              "      <td>0</td>\n",
              "      <td>0</td>\n",
              "      <td>0</td>\n",
              "      <td>0</td>\n",
              "      <td>0</td>\n",
              "      <td>0</td>\n",
              "      <td>0</td>\n",
              "    </tr>\n",
              "  </tbody>\n",
              "</table>\n",
              "</div>"
            ],
            "text/plain": [
              "   UNIQUE_IDENTIFIER  SEQUENCE_NO  ...  CATEGORY_2_H  CATEGORY_2_I\n",
              "0        98481267304            1  ...             0             0\n",
              "1        98481267304            2  ...             0             0\n",
              "2        98481267304            3  ...             0             0\n",
              "3        98481267304            4  ...             0             0\n",
              "4        98481267304            5  ...             0             0\n",
              "\n",
              "[5 rows x 42 columns]"
            ]
          },
          "metadata": {},
          "execution_count": 10
        }
      ]
    },
    {
      "cell_type": "code",
      "metadata": {
        "id": "90f73fdb",
        "colab": {
          "base_uri": "https://localhost:8080/",
          "height": 234
        },
        "outputId": "65ecf0b0-9ff7-4ef0-ce6f-1f360970e72f"
      },
      "source": [
        "Y_train = data_onehot.groupby('UNIQUE_IDENTIFIER').mean()[['Y1', 'Y2']]\n",
        "Y_train.head()"
      ],
      "id": "90f73fdb",
      "execution_count": 11,
      "outputs": [
        {
          "output_type": "execute_result",
          "data": {
            "text/html": [
              "<div>\n",
              "<style scoped>\n",
              "    .dataframe tbody tr th:only-of-type {\n",
              "        vertical-align: middle;\n",
              "    }\n",
              "\n",
              "    .dataframe tbody tr th {\n",
              "        vertical-align: top;\n",
              "    }\n",
              "\n",
              "    .dataframe thead th {\n",
              "        text-align: right;\n",
              "    }\n",
              "</style>\n",
              "<table border=\"1\" class=\"dataframe\">\n",
              "  <thead>\n",
              "    <tr style=\"text-align: right;\">\n",
              "      <th></th>\n",
              "      <th>Y1</th>\n",
              "      <th>Y2</th>\n",
              "    </tr>\n",
              "    <tr>\n",
              "      <th>UNIQUE_IDENTIFIER</th>\n",
              "      <th></th>\n",
              "      <th></th>\n",
              "    </tr>\n",
              "  </thead>\n",
              "  <tbody>\n",
              "    <tr>\n",
              "      <th>98481267304</th>\n",
              "      <td>4.449287</td>\n",
              "      <td>101.369863</td>\n",
              "    </tr>\n",
              "    <tr>\n",
              "      <th>98481267698</th>\n",
              "      <td>7.182779</td>\n",
              "      <td>115.068493</td>\n",
              "    </tr>\n",
              "    <tr>\n",
              "      <th>98481269325</th>\n",
              "      <td>3.977371</td>\n",
              "      <td>24.657534</td>\n",
              "    </tr>\n",
              "    <tr>\n",
              "      <th>98481271512</th>\n",
              "      <td>3.988122</td>\n",
              "      <td>10.958904</td>\n",
              "    </tr>\n",
              "    <tr>\n",
              "      <th>98481273023</th>\n",
              "      <td>4.128875</td>\n",
              "      <td>46.575342</td>\n",
              "    </tr>\n",
              "  </tbody>\n",
              "</table>\n",
              "</div>"
            ],
            "text/plain": [
              "                         Y1          Y2\n",
              "UNIQUE_IDENTIFIER                      \n",
              "98481267304        4.449287  101.369863\n",
              "98481267698        7.182779  115.068493\n",
              "98481269325        3.977371   24.657534\n",
              "98481271512        3.988122   10.958904\n",
              "98481273023        4.128875   46.575342"
            ]
          },
          "metadata": {},
          "execution_count": 11
        }
      ]
    },
    {
      "cell_type": "code",
      "metadata": {
        "id": "2b9a9789",
        "colab": {
          "base_uri": "https://localhost:8080/",
          "height": 223
        },
        "outputId": "482e4737-2675-4e4d-aad3-2d059214c995"
      },
      "source": [
        "X_train = data_onehot.drop([\"Y1\", \"Y2\"], axis=1)\n",
        "X_train.head()"
      ],
      "id": "2b9a9789",
      "execution_count": 12,
      "outputs": [
        {
          "output_type": "execute_result",
          "data": {
            "text/html": [
              "<div>\n",
              "<style scoped>\n",
              "    .dataframe tbody tr th:only-of-type {\n",
              "        vertical-align: middle;\n",
              "    }\n",
              "\n",
              "    .dataframe tbody tr th {\n",
              "        vertical-align: top;\n",
              "    }\n",
              "\n",
              "    .dataframe thead th {\n",
              "        text-align: right;\n",
              "    }\n",
              "</style>\n",
              "<table border=\"1\" class=\"dataframe\">\n",
              "  <thead>\n",
              "    <tr style=\"text-align: right;\">\n",
              "      <th></th>\n",
              "      <th>UNIQUE_IDENTIFIER</th>\n",
              "      <th>SEQUENCE_NO</th>\n",
              "      <th>STATUS_CHECK</th>\n",
              "      <th>ACTIVE_YN</th>\n",
              "      <th>ENTRY</th>\n",
              "      <th>REVENUE</th>\n",
              "      <th>WINNINGS_1</th>\n",
              "      <th>WINNINGS_2</th>\n",
              "      <th>DISCOUNT</th>\n",
              "      <th>DEPOSIT</th>\n",
              "      <th>DEPOSIT_NUMBER</th>\n",
              "      <th>DEPOSIT_2</th>\n",
              "      <th>WITHDRAW</th>\n",
              "      <th>WITHDRAW_NUMBER</th>\n",
              "      <th>DEPOSIT_TRAILS</th>\n",
              "      <th>ENTRY_NUMBER</th>\n",
              "      <th>WINNINGS_NUMBER</th>\n",
              "      <th>PRACTICE_ENTRY</th>\n",
              "      <th>PRACTICE_WINNINGS</th>\n",
              "      <th>PRACTICE_ENTRY_NUMBER</th>\n",
              "      <th>PRACTICE_WINNINGS_NUMBER</th>\n",
              "      <th>CATEGORY_1_B</th>\n",
              "      <th>CATEGORY_1_C</th>\n",
              "      <th>CATEGORY_1_D</th>\n",
              "      <th>CATEGORY_1_E</th>\n",
              "      <th>CATEGORY_1_F</th>\n",
              "      <th>CATEGORY_1_G</th>\n",
              "      <th>CATEGORY_1_I</th>\n",
              "      <th>CATEGORY_1_J</th>\n",
              "      <th>CATEGORY_1_K</th>\n",
              "      <th>CATEGORY_1_L</th>\n",
              "      <th>CATEGORY_1_M</th>\n",
              "      <th>CATEGORY_2_B</th>\n",
              "      <th>CATEGORY_2_C</th>\n",
              "      <th>CATEGORY_2_D</th>\n",
              "      <th>CATEGORY_2_E</th>\n",
              "      <th>CATEGORY_2_F</th>\n",
              "      <th>CATEGORY_2_G</th>\n",
              "      <th>CATEGORY_2_H</th>\n",
              "      <th>CATEGORY_2_I</th>\n",
              "    </tr>\n",
              "  </thead>\n",
              "  <tbody>\n",
              "    <tr>\n",
              "      <th>0</th>\n",
              "      <td>98481267304</td>\n",
              "      <td>1</td>\n",
              "      <td>0</td>\n",
              "      <td>1</td>\n",
              "      <td>0.00000</td>\n",
              "      <td>0.000000</td>\n",
              "      <td>0.0000</td>\n",
              "      <td>0.0</td>\n",
              "      <td>0.0</td>\n",
              "      <td>0.25</td>\n",
              "      <td>0.1</td>\n",
              "      <td>0.25</td>\n",
              "      <td>0.0</td>\n",
              "      <td>0.0</td>\n",
              "      <td>0.0</td>\n",
              "      <td>0.0</td>\n",
              "      <td>0.0</td>\n",
              "      <td>0.0</td>\n",
              "      <td>0.0</td>\n",
              "      <td>0.0</td>\n",
              "      <td>0.0</td>\n",
              "      <td>0</td>\n",
              "      <td>0</td>\n",
              "      <td>0</td>\n",
              "      <td>0</td>\n",
              "      <td>0</td>\n",
              "      <td>0</td>\n",
              "      <td>0</td>\n",
              "      <td>0</td>\n",
              "      <td>0</td>\n",
              "      <td>0</td>\n",
              "      <td>1</td>\n",
              "      <td>1</td>\n",
              "      <td>0</td>\n",
              "      <td>0</td>\n",
              "      <td>0</td>\n",
              "      <td>0</td>\n",
              "      <td>0</td>\n",
              "      <td>0</td>\n",
              "      <td>0</td>\n",
              "    </tr>\n",
              "    <tr>\n",
              "      <th>1</th>\n",
              "      <td>98481267304</td>\n",
              "      <td>2</td>\n",
              "      <td>0</td>\n",
              "      <td>1</td>\n",
              "      <td>0.13735</td>\n",
              "      <td>0.011550</td>\n",
              "      <td>0.0999</td>\n",
              "      <td>0.0</td>\n",
              "      <td>0.0</td>\n",
              "      <td>0.00</td>\n",
              "      <td>0.0</td>\n",
              "      <td>0.00</td>\n",
              "      <td>0.0</td>\n",
              "      <td>0.0</td>\n",
              "      <td>0.0</td>\n",
              "      <td>1.8</td>\n",
              "      <td>1.0</td>\n",
              "      <td>0.0</td>\n",
              "      <td>0.0</td>\n",
              "      <td>0.0</td>\n",
              "      <td>0.0</td>\n",
              "      <td>0</td>\n",
              "      <td>0</td>\n",
              "      <td>0</td>\n",
              "      <td>0</td>\n",
              "      <td>0</td>\n",
              "      <td>0</td>\n",
              "      <td>0</td>\n",
              "      <td>0</td>\n",
              "      <td>0</td>\n",
              "      <td>0</td>\n",
              "      <td>1</td>\n",
              "      <td>1</td>\n",
              "      <td>0</td>\n",
              "      <td>0</td>\n",
              "      <td>0</td>\n",
              "      <td>0</td>\n",
              "      <td>0</td>\n",
              "      <td>0</td>\n",
              "      <td>0</td>\n",
              "    </tr>\n",
              "    <tr>\n",
              "      <th>2</th>\n",
              "      <td>98481267304</td>\n",
              "      <td>3</td>\n",
              "      <td>0</td>\n",
              "      <td>1</td>\n",
              "      <td>0.15835</td>\n",
              "      <td>0.010425</td>\n",
              "      <td>0.0242</td>\n",
              "      <td>0.0</td>\n",
              "      <td>0.0</td>\n",
              "      <td>0.00</td>\n",
              "      <td>0.0</td>\n",
              "      <td>0.00</td>\n",
              "      <td>0.0</td>\n",
              "      <td>0.0</td>\n",
              "      <td>0.0</td>\n",
              "      <td>0.7</td>\n",
              "      <td>0.3</td>\n",
              "      <td>0.0</td>\n",
              "      <td>0.0</td>\n",
              "      <td>0.0</td>\n",
              "      <td>0.0</td>\n",
              "      <td>0</td>\n",
              "      <td>0</td>\n",
              "      <td>0</td>\n",
              "      <td>0</td>\n",
              "      <td>0</td>\n",
              "      <td>0</td>\n",
              "      <td>0</td>\n",
              "      <td>0</td>\n",
              "      <td>0</td>\n",
              "      <td>0</td>\n",
              "      <td>1</td>\n",
              "      <td>1</td>\n",
              "      <td>0</td>\n",
              "      <td>0</td>\n",
              "      <td>0</td>\n",
              "      <td>0</td>\n",
              "      <td>0</td>\n",
              "      <td>0</td>\n",
              "      <td>0</td>\n",
              "    </tr>\n",
              "    <tr>\n",
              "      <th>3</th>\n",
              "      <td>98481267304</td>\n",
              "      <td>4</td>\n",
              "      <td>0</td>\n",
              "      <td>1</td>\n",
              "      <td>0.44490</td>\n",
              "      <td>0.035850</td>\n",
              "      <td>0.2398</td>\n",
              "      <td>0.0</td>\n",
              "      <td>0.0</td>\n",
              "      <td>0.00</td>\n",
              "      <td>0.0</td>\n",
              "      <td>0.00</td>\n",
              "      <td>0.0</td>\n",
              "      <td>0.0</td>\n",
              "      <td>0.0</td>\n",
              "      <td>2.8</td>\n",
              "      <td>1.5</td>\n",
              "      <td>0.0</td>\n",
              "      <td>0.0</td>\n",
              "      <td>0.0</td>\n",
              "      <td>0.0</td>\n",
              "      <td>0</td>\n",
              "      <td>0</td>\n",
              "      <td>0</td>\n",
              "      <td>0</td>\n",
              "      <td>0</td>\n",
              "      <td>0</td>\n",
              "      <td>0</td>\n",
              "      <td>0</td>\n",
              "      <td>0</td>\n",
              "      <td>0</td>\n",
              "      <td>1</td>\n",
              "      <td>1</td>\n",
              "      <td>0</td>\n",
              "      <td>0</td>\n",
              "      <td>0</td>\n",
              "      <td>0</td>\n",
              "      <td>0</td>\n",
              "      <td>0</td>\n",
              "      <td>0</td>\n",
              "    </tr>\n",
              "    <tr>\n",
              "      <th>4</th>\n",
              "      <td>98481267304</td>\n",
              "      <td>5</td>\n",
              "      <td>0</td>\n",
              "      <td>1</td>\n",
              "      <td>0.00000</td>\n",
              "      <td>0.000000</td>\n",
              "      <td>0.0000</td>\n",
              "      <td>0.0</td>\n",
              "      <td>0.0</td>\n",
              "      <td>0.00</td>\n",
              "      <td>0.0</td>\n",
              "      <td>0.00</td>\n",
              "      <td>0.0</td>\n",
              "      <td>0.0</td>\n",
              "      <td>0.0</td>\n",
              "      <td>0.0</td>\n",
              "      <td>0.0</td>\n",
              "      <td>0.0</td>\n",
              "      <td>0.0</td>\n",
              "      <td>0.0</td>\n",
              "      <td>0.0</td>\n",
              "      <td>0</td>\n",
              "      <td>0</td>\n",
              "      <td>0</td>\n",
              "      <td>0</td>\n",
              "      <td>0</td>\n",
              "      <td>0</td>\n",
              "      <td>0</td>\n",
              "      <td>0</td>\n",
              "      <td>0</td>\n",
              "      <td>0</td>\n",
              "      <td>1</td>\n",
              "      <td>1</td>\n",
              "      <td>0</td>\n",
              "      <td>0</td>\n",
              "      <td>0</td>\n",
              "      <td>0</td>\n",
              "      <td>0</td>\n",
              "      <td>0</td>\n",
              "      <td>0</td>\n",
              "    </tr>\n",
              "  </tbody>\n",
              "</table>\n",
              "</div>"
            ],
            "text/plain": [
              "   UNIQUE_IDENTIFIER  SEQUENCE_NO  ...  CATEGORY_2_H  CATEGORY_2_I\n",
              "0        98481267304            1  ...             0             0\n",
              "1        98481267304            2  ...             0             0\n",
              "2        98481267304            3  ...             0             0\n",
              "3        98481267304            4  ...             0             0\n",
              "4        98481267304            5  ...             0             0\n",
              "\n",
              "[5 rows x 40 columns]"
            ]
          },
          "metadata": {},
          "execution_count": 12
        }
      ]
    },
    {
      "cell_type": "code",
      "metadata": {
        "id": "0c79418e"
      },
      "source": [
        "def input_generator(df_input):\n",
        "    \n",
        "    customer_stamp = df_input['UNIQUE_IDENTIFIER'].value_counts()\n",
        "    customer_id = df_input['UNIQUE_IDENTIFIER'].unique()\n",
        "    n_customer_stamp = customer_stamp[customer_id].values\n",
        "    cumsum_customer_stamp = np.cumsum(n_customer_stamp, axis=0)\n",
        "    time_stamp = np.hstack((0, cumsum_customer_stamp))\n",
        "    row_size = np.max(n_customer_stamp)\n",
        "    input_array = np.ones((customer_id.shape[0], row_size, df_input.shape[1]))*(-1)\n",
        "    \n",
        "    for i in range(time_stamp.shape[0]-1):\n",
        "        temp_array = df_input.iloc[time_stamp[i]:time_stamp[i+1], :].values\n",
        "        input_array[i, :, :] = np.pad(temp_array, ((0, row_size-temp_array.shape[0]), (0, 0)), mode='constant', constant_values=(-1, 0))\n",
        "    \n",
        "    return input_array"
      ],
      "id": "0c79418e",
      "execution_count": 13,
      "outputs": []
    },
    {
      "cell_type": "code",
      "metadata": {
        "id": "f8ac4b2f"
      },
      "source": [
        "scaler2 = StandardScaler()\n",
        "X2_train_scaled = pd.DataFrame(scaler2.fit_transform(X_train), columns=X_train.columns)\n",
        "X2_test_scaled = pd.DataFrame(scaler2.transform(test_onehot), columns=test_onehot.columns)"
      ],
      "id": "f8ac4b2f",
      "execution_count": 14,
      "outputs": []
    },
    {
      "cell_type": "code",
      "metadata": {
        "id": "ac2eb769"
      },
      "source": [
        "X2_train = input_generator(X2_train_scaled)"
      ],
      "id": "ac2eb769",
      "execution_count": 15,
      "outputs": []
    },
    {
      "cell_type": "code",
      "metadata": {
        "id": "b786bf7b"
      },
      "source": [
        "X2_test = input_generator(X2_test_scaled)"
      ],
      "id": "b786bf7b",
      "execution_count": 16,
      "outputs": []
    },
    {
      "cell_type": "code",
      "metadata": {
        "id": "21009d2a"
      },
      "source": [
        "X2_train = X2_train[:, :, 1:]\n",
        "X2_test = X2_test[:, :, 1:]"
      ],
      "id": "21009d2a",
      "execution_count": 17,
      "outputs": []
    },
    {
      "cell_type": "code",
      "metadata": {
        "id": "364afe69",
        "colab": {
          "base_uri": "https://localhost:8080/"
        },
        "outputId": "c1b75149-20f0-4ce3-aecd-552fabd04a2a"
      },
      "source": [
        "print(X2_train.shape)\n",
        "print(X2_test.shape)"
      ],
      "id": "364afe69",
      "execution_count": 18,
      "outputs": [
        {
          "output_type": "stream",
          "name": "stdout",
          "text": [
            "(96298, 30, 39)\n",
            "(65242, 30, 39)\n"
          ]
        }
      ]
    },
    {
      "cell_type": "markdown",
      "metadata": {
        "id": "3a75e36f"
      },
      "source": [
        "# DL Model"
      ],
      "id": "3a75e36f"
    },
    {
      "cell_type": "markdown",
      "metadata": {
        "id": "x_OCjMgk9AzO"
      },
      "source": [
        "CONV1D + BI-LSTM\n"
      ],
      "id": "x_OCjMgk9AzO"
    },
    {
      "cell_type": "code",
      "metadata": {
        "id": "340337d3",
        "colab": {
          "base_uri": "https://localhost:8080/"
        },
        "outputId": "4407893e-8948-4583-bba5-ea61441328fb"
      },
      "source": [
        "\n",
        "input_ = tfl.Input(shape=(X2_train.shape[1], X2_train.shape[2]))\n",
        "print(input_.shape)\n",
        "\n",
        "#1st layer\n",
        "x = tfl.Conv1D(filters=16, kernel_size=3,padding = 'same')(input_)\n",
        "x = tfl.ReLU()(x)\n",
        "#x = tfl.BatchNormalization()(x)\n",
        "x = tfl.MaxPool1D(1)(x)\n",
        "\n",
        "#2nd layer\n",
        "x = tfl.Conv1D(filters=32, kernel_size=3, padding = 'same')(x)\n",
        "x = tfl.ReLU()(x)\n",
        "#x = tfl.BatchNormalization()(x)\n",
        "x = tfl.MaxPool1D(1)(x)\n",
        "\n",
        "#3nd layer\n",
        "#x = tfl.Conv1D(filters=64, kernel_size=3, padding = 'same')(x)\n",
        "#x = tfl.ReLU()(x)\n",
        "#x = tfl.BatchNormalization()(x)\n",
        "#x = tfl.MaxPool1D(1)(x)\n",
        "\n",
        "print(x.shape)\n",
        "\n",
        "x=tfl.Bidirectional(tfl.LSTM(64, input_shape=(x.shape[1], x.shape[2])))(x)\n",
        "\n",
        "print(x.shape)\n",
        "\n",
        "#3rd layer\n",
        "#x = tfl.Flatten()(x)\n",
        "#print(x.shape)\n",
        "#x = tfl.Dense(450,activation='selu',kernel_initializer='he_uniform',kernel_constraint=maxnorm(5))(x)\n",
        "#x = tfl.Dropout(0.7)(x)\n",
        "#x = tfl.ELU(alpha=1)(x)\n",
        "x = tfl.Dense(200,activation='selu',kernel_constraint=maxnorm(5))(x)\n",
        "x = tfl.Dropout(0.8)(x)\n",
        "#x = tfl.ELU(alpha=1)(x)\n",
        "x = tfl.Dense(20,activation='selu',kernel_constraint=maxnorm(5))(x)\n",
        "x = tfl.Dropout(0.5)(x)\n",
        "#x = tfl.ELU(alpha=1)(x)\n",
        "output = tfl.Dense(1)(x)\n",
        "\n",
        "model = tf.keras.Model(inputs=input_, outputs=output)\n"
      ],
      "id": "340337d3",
      "execution_count": 19,
      "outputs": [
        {
          "output_type": "stream",
          "name": "stdout",
          "text": [
            "(None, 30, 39)\n",
            "(None, 30, 32)\n",
            "(None, 128)\n"
          ]
        }
      ]
    },
    {
      "cell_type": "markdown",
      "metadata": {
        "id": "3_oyV6ya9J-v"
      },
      "source": [
        "CONV2D + BI-LSTM"
      ],
      "id": "3_oyV6ya9J-v"
    },
    {
      "cell_type": "code",
      "metadata": {
        "colab": {
          "base_uri": "https://localhost:8080/"
        },
        "id": "RaEZBXK76uTS",
        "outputId": "da774d8d-e45f-4991-b058-c79fd69b9748"
      },
      "source": [
        "'''\n",
        "input_ = tfl.Input(shape=(X2_train.shape[1], X2_train.shape[2]))\n",
        "print(input_.shape)\n",
        "\n",
        "x=tf.keras.layers.Reshape((X2_train.shape[1], X2_train.shape[2],1), input_shape=(X2_train.shape[1], X2_train.shape[2]))(input_)\n",
        "print(x.shape)\n",
        "#1st layer\n",
        "x = tfl.Conv2D(filters=16, kernel_size=3,padding = 'same')(x)\n",
        "x = tfl.ReLU()(x)\n",
        "#x = tfl.BatchNormalization()(x)\n",
        "#x = tfl.MaxPool2D(2)(x)\n",
        "print(x.shape)\n",
        "\n",
        "#2nd layer\n",
        "x = tfl.Conv2D(filters=32, kernel_size=3, padding = 'same')(x)\n",
        "x = tfl.ReLU()(x)\n",
        "#x = tfl.BatchNormalization()(x)\n",
        "#x = tfl.MaxPool2D(2)(x)\n",
        "print(x.shape)\n",
        "x = tfl.Reshape([x.shape[1],x.shape[2]*x.shape[3]])(x)\n",
        "print(x.shape)\n",
        "x=tfl.Bidirectional(tfl.LSTM(256, return_sequences=True), input_shape=(x.shape[1], x.shape[2]))(x)\n",
        "\n",
        "print(x.shape)\n",
        "#3rd layer\n",
        "x = tfl.Flatten()(x)\n",
        "print(x.shape)\n",
        "x = tfl.Dense(1500,activation='selu',kernel_initializer='he_uniform',kernel_constraint=maxnorm(5))(x)\n",
        "x = tfl.Dropout(0.5)(x)\n",
        "#x = tfl.ELU(alpha=1)(x)\n",
        "x = tfl.Dense(800,activation='selu',kernel_constraint=maxnorm(5))(x)\n",
        "x = tfl.Dropout(0.5)(x)\n",
        "#x = tfl.ELU(alpha=1)(x)\n",
        "print(x.shape)\n",
        "x = tfl.Dense(400,activation='selu',kernel_constraint=maxnorm(5))(x)\n",
        "x = tfl.Dropout(0.5)(x)\n",
        "x = tfl.Dense(100,activation='selu',kernel_constraint=maxnorm(5))(x)\n",
        "x = tfl.Dropout(0.5)(x)\n",
        "x = tfl.Dense(50,activation='selu',kernel_constraint=maxnorm(5))(x)\n",
        "x = tfl.Dropout(0.5)(x)\n",
        "print(x.shape)\n",
        "#x = tfl.ELU(alpha=1)(x)\n",
        "output = tfl.Dense(1)(x)\n",
        "\n",
        "model = tf.keras.Model(inputs=input_, outputs=output)\n",
        "'''"
      ],
      "id": "RaEZBXK76uTS",
      "execution_count": null,
      "outputs": [
        {
          "output_type": "stream",
          "name": "stdout",
          "text": [
            "(None, 30, 39)\n",
            "(None, 30, 39, 1)\n",
            "(None, 30, 39, 16)\n",
            "(None, 30, 39, 32)\n",
            "(None, 30, 1248)\n",
            "(None, 30, 512)\n",
            "(None, 15360)\n",
            "(None, 800)\n",
            "(None, 50)\n"
          ]
        }
      ]
    },
    {
      "cell_type": "markdown",
      "metadata": {
        "id": "KNS-79jATB1M"
      },
      "source": [
        "201 MSE AND REAL SCORE OF 72"
      ],
      "id": "KNS-79jATB1M"
    },
    {
      "cell_type": "code",
      "metadata": {
        "colab": {
          "base_uri": "https://localhost:8080/",
          "height": 120
        },
        "id": "TttY5U83J5u8",
        "outputId": "b7be1948-7829-4bbd-c671-e7626d736b52"
      },
      "source": [
        "# After 40 epochs this was over fitting\n",
        "'''\n",
        "input_ = tfl.Input(shape=(X2_train.shape[1], X2_train.shape[2]))\n",
        "print(input_.shape)\n",
        "\n",
        "x=tf.keras.layers.Reshape((X2_train.shape[1], X2_train.shape[2],1), input_shape=(X2_train.shape[1], X2_train.shape[2]))(input_)\n",
        "print(x.shape)\n",
        "#1st layer\n",
        "x = tfl.Conv2D(filters=8, kernel_size=3,padding = 'same')(x)\n",
        "x = tfl.ReLU()(x)\n",
        "#x = tfl.BatchNormalization()(x)\n",
        "#x = tfl.MaxPool2D(2)(x)\n",
        "print(x.shape)\n",
        "\n",
        "#2nd layer\n",
        "x = tfl.Conv2D(filters=16, kernel_size=3, padding = 'same')(x)\n",
        "x = tfl.ReLU()(x)\n",
        "#x = tfl.BatchNormalization()(x)\n",
        "#x = tfl.MaxPool2D(2)(x)\n",
        "print(x.shape)\n",
        "x = tfl.Reshape([x.shape[1],x.shape[2]*x.shape[3]])(x)\n",
        "print(x.shape)\n",
        "x=tfl.Bidirectional(tfl.LSTM(64, return_sequences=True), input_shape=(x.shape[1], x.shape[2]))(x)\n",
        "\n",
        "print(x.shape)\n",
        "#3rd layer\n",
        "x = tfl.Flatten()(x)\n",
        "print(x.shape)\n",
        "x = tfl.Dense(1000,activation='selu',kernel_initializer='he_uniform',kernel_constraint=maxnorm(5))(x)\n",
        "x = tfl.Dropout(0.5)(x)\n",
        "#x = tfl.ELU(alpha=1)(x)\n",
        "x = tfl.Dense(500,activation='selu',kernel_constraint=maxnorm(5))(x)\n",
        "x = tfl.Dropout(0.5)(x)\n",
        "#x = tfl.ELU(alpha=1)(x)\n",
        "print(x.shape)\n",
        "x = tfl.Dense(200,activation='selu',kernel_constraint=maxnorm(5))(x)\n",
        "x = tfl.Dropout(0.5)(x)\n",
        "x = tfl.Dense(50,activation='selu',kernel_constraint=maxnorm(5))(x)\n",
        "x = tfl.Dropout(0.5)(x)\n",
        "print(x.shape)\n",
        "#x = tfl.ELU(alpha=1)(x)\n",
        "output = tfl.Dense(1)(x)\n",
        "\n",
        "model = tf.keras.Model(inputs=input_, outputs=output)\n",
        "'''"
      ],
      "id": "TttY5U83J5u8",
      "execution_count": null,
      "outputs": [
        {
          "output_type": "execute_result",
          "data": {
            "application/vnd.google.colaboratory.intrinsic+json": {
              "type": "string"
            },
            "text/plain": [
              "\"\\ninput_ = tfl.Input(shape=(X2_train.shape[1], X2_train.shape[2]))\\nprint(input_.shape)\\n\\nx=tf.keras.layers.Reshape((X2_train.shape[1], X2_train.shape[2],1), input_shape=(X2_train.shape[1], X2_train.shape[2]))(input_)\\nprint(x.shape)\\n#1st layer\\nx = tfl.Conv2D(filters=8, kernel_size=3,padding = 'same')(x)\\nx = tfl.ReLU()(x)\\n#x = tfl.BatchNormalization()(x)\\n#x = tfl.MaxPool2D(2)(x)\\nprint(x.shape)\\n\\n#2nd layer\\nx = tfl.Conv2D(filters=16, kernel_size=3, padding = 'same')(x)\\nx = tfl.ReLU()(x)\\n#x = tfl.BatchNormalization()(x)\\n#x = tfl.MaxPool2D(2)(x)\\nprint(x.shape)\\nx = tfl.Reshape([x.shape[1],x.shape[2]*x.shape[3]])(x)\\nprint(x.shape)\\nx=tfl.Bidirectional(tfl.LSTM(64, return_sequences=True), input_shape=(x.shape[1], x.shape[2]))(x)\\n\\nprint(x.shape)\\n#3rd layer\\nx = tfl.Flatten()(x)\\nprint(x.shape)\\nx = tfl.Dense(1000,activation='selu',kernel_initializer='he_uniform',kernel_constraint=maxnorm(5))(x)\\nx = tfl.Dropout(0.5)(x)\\n#x = tfl.ELU(alpha=1)(x)\\nx = tfl.Dense(500,activation='selu',kernel_constraint=maxnorm(5))(x)\\nx = tfl.Dropout(0.5)(x)\\n#x = tfl.ELU(alpha=1)(x)\\nprint(x.shape)\\nx = tfl.Dense(200,activation='selu',kernel_constraint=maxnorm(5))(x)\\nx = tfl.Dropout(0.5)(x)\\nx = tfl.Dense(50,activation='selu',kernel_constraint=maxnorm(5))(x)\\nx = tfl.Dropout(0.5)(x)\\nprint(x.shape)\\n#x = tfl.ELU(alpha=1)(x)\\noutput = tfl.Dense(1)(x)\\n\\nmodel = tf.keras.Model(inputs=input_, outputs=output)\\n\""
            ]
          },
          "metadata": {},
          "execution_count": 23
        }
      ]
    },
    {
      "cell_type": "markdown",
      "metadata": {
        "id": "GTgEnLd_M_Fy"
      },
      "source": [
        "1D-CONVNET + BI-LSTM , gave MSE=193"
      ],
      "id": "GTgEnLd_M_Fy"
    },
    {
      "cell_type": "code",
      "metadata": {
        "id": "ARN1GH4hNFH3",
        "colab": {
          "base_uri": "https://localhost:8080/",
          "height": 86
        },
        "outputId": "13e6325c-bf27-4ce0-84ad-ca06b9dd5d66"
      },
      "source": [
        "'''\n",
        "def conv1D_full(inputs):\n",
        "    \n",
        "\n",
        "    inputs=tf.expand_dims(inputs,axis=-1)\n",
        "    #print(inputs.shape)\n",
        "    x = Conv1D(filters=8, kernel_size=3, activation='selu', padding='same')(inputs)\n",
        "    x = Conv1D(filters=16, kernel_size=3, activation='selu', padding='same')(x)\n",
        "    #print(x.shape)\n",
        "    #x = layers.MaxPooling1D(2)(x)\n",
        "   # x = Conv1D(filters=32, kernel_size=3, activation='selu', padding='same')(x)\n",
        "   # x = Conv1D(filters=64, kernel_size=3, activation='selu', padding='same')(x)\n",
        "   # x = layers.MaxPooling1D(2)(x)\n",
        "    #x = layers.Flatten()(x)\n",
        "    #x = layers.Dense(200, activation='selu')(x)\n",
        "    #print(x.shape)\n",
        "    \n",
        "    return x\n",
        "'''"
      ],
      "id": "ARN1GH4hNFH3",
      "execution_count": null,
      "outputs": [
        {
          "output_type": "execute_result",
          "data": {
            "application/vnd.google.colaboratory.intrinsic+json": {
              "type": "string"
            },
            "text/plain": [
              "\"\\ndef conv1D_full(inputs):\\n    \\n\\n    inputs=tf.expand_dims(inputs,axis=-1)\\n    #print(inputs.shape)\\n    x = Conv1D(filters=8, kernel_size=3, activation='selu', padding='same')(inputs)\\n    x = Conv1D(filters=16, kernel_size=3, activation='selu', padding='same')(x)\\n    #print(x.shape)\\n    #x = layers.MaxPooling1D(2)(x)\\n   # x = Conv1D(filters=32, kernel_size=3, activation='selu', padding='same')(x)\\n   # x = Conv1D(filters=64, kernel_size=3, activation='selu', padding='same')(x)\\n   # x = layers.MaxPooling1D(2)(x)\\n    #x = layers.Flatten()(x)\\n    #x = layers.Dense(200, activation='selu')(x)\\n    #print(x.shape)\\n    \\n    return x\\n\""
            ]
          },
          "metadata": {},
          "execution_count": 24
        }
      ]
    },
    {
      "cell_type": "code",
      "metadata": {
        "id": "m2JdGyp2NXuE",
        "colab": {
          "base_uri": "https://localhost:8080/",
          "height": 120
        },
        "outputId": "fba912f1-17dc-462a-c77f-b513cc2db0f3"
      },
      "source": [
        "'''\n",
        "def multiple_cnn1D(nb):\n",
        "    \n",
        "    inputs = Input(shape=(30, nb))\n",
        "\n",
        "    outputs = conv1D_full(inputs[:,:,0])\n",
        "    \n",
        "    for i in range(1,nb):\n",
        "        x_i = conv1D_full(inputs[:,:,i])\n",
        "        outputs = tf.concat([ outputs , x_i ] , 2 )\n",
        "    #print(outputs.shape)\n",
        "    \n",
        "    x=Bidirectional(LSTM(64, return_sequences=True), input_shape=(outputs.shape[1],outputs.shape[2]))(outputs)\n",
        "    #print(x.shape)\n",
        "    x = Dropout(0.5)(x)\n",
        "    x = layers.Flatten()(x)\n",
        "    #print(x.shape)\n",
        "    x = layers.Dense(1000, activation='selu',kernel_initializer='he_uniform',kernel_constraint=maxnorm(5))(x)\n",
        "    x =  Dropout(0.5)(x)\n",
        "    x = layers.Dense(500, activation='selu',kernel_constraint=maxnorm(5))(x)\n",
        "    x =  Dropout(0.5)(x)\n",
        "    x = layers.Dense(100,activation='selu',kernel_constraint=maxnorm(5))(x)\n",
        "    x = Dropout(0.5)(x)\n",
        "    x = layers.Dense(20,activation='selu',kernel_constraint=maxnorm(5))(x)\n",
        "    x = Dropout(0.5)(x)\n",
        "    answer = layers.Dense(1)(x)\n",
        "    \n",
        "    #print(answer.shape)\n",
        "    \n",
        "    model = Model(inputs, answer)\n",
        "    opt = keras.optimizers.Adam(learning_rate=0.0001)\n",
        "    model.compile(loss='mse', optimizer=opt, metrics=[tf.keras.metrics.MeanSquaredError()])\n",
        "    print(model.summary())\n",
        "    \n",
        "    #dot_img_file = 'model_LSTM.png'\n",
        "    #tf.keras.utils.plot_model(model, to_file=dot_img_file, show_shapes=True, rankdir='LR')\n",
        "    \n",
        "    return model\n",
        "'''"
      ],
      "id": "m2JdGyp2NXuE",
      "execution_count": null,
      "outputs": [
        {
          "output_type": "execute_result",
          "data": {
            "application/vnd.google.colaboratory.intrinsic+json": {
              "type": "string"
            },
            "text/plain": [
              "\"\\ndef multiple_cnn1D(nb):\\n    \\n    inputs = Input(shape=(30, nb))\\n\\n    outputs = conv1D_full(inputs[:,:,0])\\n    \\n    for i in range(1,nb):\\n        x_i = conv1D_full(inputs[:,:,i])\\n        outputs = tf.concat([ outputs , x_i ] , 2 )\\n    #print(outputs.shape)\\n    \\n    x=Bidirectional(LSTM(64, return_sequences=True), input_shape=(outputs.shape[1],outputs.shape[2]))(outputs)\\n    #print(x.shape)\\n    x = Dropout(0.5)(x)\\n    x = layers.Flatten()(x)\\n    #print(x.shape)\\n    x = layers.Dense(1000, activation='selu',kernel_initializer='he_uniform',kernel_constraint=maxnorm(5))(x)\\n    x =  Dropout(0.5)(x)\\n    x = layers.Dense(500, activation='selu',kernel_constraint=maxnorm(5))(x)\\n    x =  Dropout(0.5)(x)\\n    x = layers.Dense(100,activation='selu',kernel_constraint=maxnorm(5))(x)\\n    x = Dropout(0.5)(x)\\n    x = layers.Dense(20,activation='selu',kernel_constraint=maxnorm(5))(x)\\n    x = Dropout(0.5)(x)\\n    answer = layers.Dense(1)(x)\\n    \\n    #print(answer.shape)\\n    \\n    model = Model(inputs, answer)\\n    opt = keras.optimizers.Adam(learning_rate=0.0001)\\n    model.compile(loss='mse', optimizer=opt, metrics=[tf.keras.metrics.MeanSquaredError()])\\n    print(model.summary())\\n    \\n    #dot_img_file = 'model_LSTM.png'\\n    #tf.keras.utils.plot_model(model, to_file=dot_img_file, show_shapes=True, rankdir='LR')\\n    \\n    return model\\n\""
            ]
          },
          "metadata": {},
          "execution_count": 25
        }
      ]
    },
    {
      "cell_type": "code",
      "metadata": {
        "id": "N447-p5mOpms"
      },
      "source": [
        "#model = multiple_cnn1D(39)"
      ],
      "id": "N447-p5mOpms",
      "execution_count": null,
      "outputs": []
    },
    {
      "cell_type": "code",
      "metadata": {
        "id": "49aba475",
        "colab": {
          "base_uri": "https://localhost:8080/",
          "height": 1000
        },
        "outputId": "8136b6af-a8c9-424c-ba47-8b30ec7b49bf"
      },
      "source": [
        "tf.keras.utils.plot_model(model, show_shapes=True)"
      ],
      "id": "49aba475",
      "execution_count": 20,
      "outputs": [
        {
          "output_type": "execute_result",
          "data": {
            "image/png": "[encoded data removed]",
            "text/plain": [
              "<IPython.core.display.Image object>"
            ]
          },
          "metadata": {},
          "execution_count": 20
        }
      ]
    },
    {
      "cell_type": "code",
      "metadata": {
        "id": "1f2bd85e"
      },
      "source": [
        "model.compile(optimizer=tf.keras.optimizers.Adam(learning_rate=0.001), loss='mse',metrics=[tf.keras.metrics.MeanSquaredError()])"
      ],
      "id": "1f2bd85e",
      "execution_count": 21,
      "outputs": []
    },
    {
      "cell_type": "code",
      "metadata": {
        "id": "5cecde50",
        "colab": {
          "base_uri": "https://localhost:8080/"
        },
        "outputId": "c2f3e18f-c879-48eb-ce31-ae5991e5ec12"
      },
      "source": [
        "#over_fitting after 30 epochs\n",
        "model.fit(x=X2_train, y=Y_train['Y2'].values, validation_split=0.1, epochs=25, batch_size=128)"
      ],
      "id": "5cecde50",
      "execution_count": 22,
      "outputs": [
        {
          "output_type": "stream",
          "name": "stdout",
          "text": [
            "Epoch 1/25\n",
            "678/678 [==============================] - 48s 23ms/step - loss: 21753.3340 - mean_squared_error: 21753.3340 - val_loss: 16384.7363 - val_mean_squared_error: 16384.7363\n",
            "Epoch 2/25\n",
            "678/678 [==============================] - 15s 22ms/step - loss: 18758.3809 - mean_squared_error: 18758.3809 - val_loss: 16188.6855 - val_mean_squared_error: 16188.6855\n",
            "Epoch 3/25\n",
            "678/678 [==============================] - 15s 22ms/step - loss: 18467.6816 - mean_squared_error: 18467.6816 - val_loss: 15212.6357 - val_mean_squared_error: 15212.6357\n",
            "Epoch 4/25\n",
            "678/678 [==============================] - 15s 22ms/step - loss: 18085.6855 - mean_squared_error: 18085.6855 - val_loss: 15083.2480 - val_mean_squared_error: 15083.2480\n",
            "Epoch 5/25\n",
            "678/678 [==============================] - 15s 21ms/step - loss: 17878.2480 - mean_squared_error: 17878.2480 - val_loss: 15064.9453 - val_mean_squared_error: 15064.9453\n",
            "Epoch 6/25\n",
            "678/678 [==============================] - 14s 21ms/step - loss: 17864.5918 - mean_squared_error: 17864.5918 - val_loss: 15130.7295 - val_mean_squared_error: 15130.7295\n",
            "Epoch 7/25\n",
            "678/678 [==============================] - 15s 21ms/step - loss: 17619.2344 - mean_squared_error: 17619.2344 - val_loss: 14871.6777 - val_mean_squared_error: 14871.6777\n",
            "Epoch 8/25\n",
            "678/678 [==============================] - 15s 21ms/step - loss: 17501.4590 - mean_squared_error: 17501.4590 - val_loss: 14818.6436 - val_mean_squared_error: 14818.6436\n",
            "Epoch 9/25\n",
            "678/678 [==============================] - 14s 21ms/step - loss: 17241.2383 - mean_squared_error: 17241.2383 - val_loss: 15007.1445 - val_mean_squared_error: 15007.1445\n",
            "Epoch 10/25\n",
            "678/678 [==============================] - 14s 21ms/step - loss: 17172.0195 - mean_squared_error: 17172.0195 - val_loss: 14918.8896 - val_mean_squared_error: 14918.8896\n",
            "Epoch 11/25\n",
            "678/678 [==============================] - 15s 21ms/step - loss: 17065.1875 - mean_squared_error: 17065.1875 - val_loss: 15602.3496 - val_mean_squared_error: 15602.3496\n",
            "Epoch 12/25\n",
            "678/678 [==============================] - 15s 22ms/step - loss: 17015.2246 - mean_squared_error: 17015.2246 - val_loss: 14856.5234 - val_mean_squared_error: 14856.5234\n",
            "Epoch 13/25\n",
            "678/678 [==============================] - 14s 21ms/step - loss: 16849.3086 - mean_squared_error: 16849.3086 - val_loss: 14937.0088 - val_mean_squared_error: 14937.0088\n",
            "Epoch 14/25\n",
            "678/678 [==============================] - 15s 22ms/step - loss: 16842.2969 - mean_squared_error: 16842.2969 - val_loss: 14931.9082 - val_mean_squared_error: 14931.9082\n",
            "Epoch 15/25\n",
            "678/678 [==============================] - 15s 21ms/step - loss: 16735.1504 - mean_squared_error: 16735.1504 - val_loss: 15625.1816 - val_mean_squared_error: 15625.1816\n",
            "Epoch 16/25\n",
            "678/678 [==============================] - 15s 21ms/step - loss: 16541.0898 - mean_squared_error: 16541.0898 - val_loss: 14819.2451 - val_mean_squared_error: 14819.2451\n",
            "Epoch 17/25\n",
            "678/678 [==============================] - 14s 21ms/step - loss: 16413.6855 - mean_squared_error: 16413.6855 - val_loss: 15152.4258 - val_mean_squared_error: 15152.4258\n",
            "Epoch 18/25\n",
            "678/678 [==============================] - 14s 21ms/step - loss: 16619.7305 - mean_squared_error: 16619.7305 - val_loss: 15063.0830 - val_mean_squared_error: 15063.0830\n",
            "Epoch 19/25\n",
            "678/678 [==============================] - 14s 21ms/step - loss: 16303.7861 - mean_squared_error: 16303.7861 - val_loss: 15468.4316 - val_mean_squared_error: 15468.4316\n",
            "Epoch 20/25\n",
            "678/678 [==============================] - 15s 21ms/step - loss: 16297.4688 - mean_squared_error: 16297.4688 - val_loss: 15144.3145 - val_mean_squared_error: 15144.3145\n",
            "Epoch 21/25\n",
            "678/678 [==============================] - 14s 21ms/step - loss: 16166.4014 - mean_squared_error: 16166.4014 - val_loss: 15034.6465 - val_mean_squared_error: 15034.6465\n",
            "Epoch 22/25\n",
            "678/678 [==============================] - 14s 21ms/step - loss: 16130.2832 - mean_squared_error: 16130.2832 - val_loss: 15181.7490 - val_mean_squared_error: 15181.7490\n",
            "Epoch 23/25\n",
            "678/678 [==============================] - 14s 21ms/step - loss: 16185.5664 - mean_squared_error: 16185.5664 - val_loss: 15025.8477 - val_mean_squared_error: 15025.8477\n",
            "Epoch 24/25\n",
            "678/678 [==============================] - 14s 21ms/step - loss: 16005.9551 - mean_squared_error: 16005.9551 - val_loss: 14993.1797 - val_mean_squared_error: 14993.1797\n",
            "Epoch 25/25\n",
            "678/678 [==============================] - 14s 21ms/step - loss: 15820.0791 - mean_squared_error: 15820.0791 - val_loss: 15127.5879 - val_mean_squared_error: 15127.5879\n"
          ]
        },
        {
          "output_type": "execute_result",
          "data": {
            "text/plain": [
              "<keras.callbacks.History at 0x7f6a435ca090>"
            ]
          },
          "metadata": {},
          "execution_count": 22
        }
      ]
    },
    {
      "cell_type": "code",
      "metadata": {
        "id": "898ba030",
        "colab": {
          "base_uri": "https://localhost:8080/",
          "height": 283
        },
        "outputId": "afdbc139-8cdd-4aed-e343-a64ec9f46555"
      },
      "source": [
        "pd.DataFrame(model.history.history).plot()"
      ],
      "id": "898ba030",
      "execution_count": 23,
      "outputs": [
        {
          "output_type": "execute_result",
          "data": {
            "text/plain": [
              "<matplotlib.axes._subplots.AxesSubplot at 0x7f6a41d3f790>"
            ]
          },
          "metadata": {},
          "execution_count": 23
        },
        {
          "output_type": "display_data",
          "data": {
            "image/png": "[encoded data removed]",
            "text/plain": [
              "<Figure size 432x288 with 1 Axes>"
            ]
          },
          "metadata": {
            "needs_background": "light"
          }
        }
      ]
    },
    {
      "cell_type": "code",
      "metadata": {
        "id": "9ef19804"
      },
      "source": [
        "predict_y2 = model.predict(X2_test)"
      ],
      "id": "9ef19804",
      "execution_count": 24,
      "outputs": []
    },
    {
      "cell_type": "code",
      "metadata": {
        "id": "6b16e06a",
        "colab": {
          "base_uri": "https://localhost:8080/"
        },
        "outputId": "75eaaba6-cc10-41c5-e27b-f9dc20f73ebd"
      },
      "source": [
        "predict_y2"
      ],
      "id": "6b16e06a",
      "execution_count": 25,
      "outputs": [
        {
          "output_type": "execute_result",
          "data": {
            "text/plain": [
              "array([[  8.124355],\n",
              "       [ 78.35759 ],\n",
              "       [ 74.38512 ],\n",
              "       ...,\n",
              "       [ 36.921547],\n",
              "       [190.95468 ],\n",
              "       [374.50494 ]], dtype=float32)"
            ]
          },
          "metadata": {},
          "execution_count": 25
        }
      ]
    },
    {
      "cell_type": "code",
      "metadata": {
        "id": "7471b072",
        "colab": {
          "base_uri": "https://localhost:8080/"
        },
        "outputId": "326fe577-b77b-41d3-8a6f-a6893e66490c"
      },
      "source": [
        "predict_y2.shape"
      ],
      "id": "7471b072",
      "execution_count": 26,
      "outputs": [
        {
          "output_type": "execute_result",
          "data": {
            "text/plain": [
              "(65242, 1)"
            ]
          },
          "metadata": {},
          "execution_count": 26
        }
      ]
    },
    {
      "cell_type": "markdown",
      "metadata": {
        "id": "19e5e7f6"
      },
      "source": [
        "# Simple Model"
      ],
      "id": "19e5e7f6"
    },
    {
      "cell_type": "code",
      "metadata": {
        "id": "51fbd5e2"
      },
      "source": [
        "X1_train = X_train.groupby('UNIQUE_IDENTIFIER').mean()\n",
        "X1_test = test_onehot.groupby('UNIQUE_IDENTIFIER').mean()"
      ],
      "id": "51fbd5e2",
      "execution_count": 27,
      "outputs": []
    },
    {
      "cell_type": "code",
      "metadata": {
        "id": "cd8d20e3",
        "colab": {
          "base_uri": "https://localhost:8080/",
          "height": 254
        },
        "outputId": "8559ad4a-a6a3-471a-b2bc-6063c06e2e13"
      },
      "source": [
        "X1_train.head()"
      ],
      "id": "cd8d20e3",
      "execution_count": 28,
      "outputs": [
        {
          "output_type": "execute_result",
          "data": {
            "text/html": [
              "<div>\n",
              "<style scoped>\n",
              "    .dataframe tbody tr th:only-of-type {\n",
              "        vertical-align: middle;\n",
              "    }\n",
              "\n",
              "    .dataframe tbody tr th {\n",
              "        vertical-align: top;\n",
              "    }\n",
              "\n",
              "    .dataframe thead th {\n",
              "        text-align: right;\n",
              "    }\n",
              "</style>\n",
              "<table border=\"1\" class=\"dataframe\">\n",
              "  <thead>\n",
              "    <tr style=\"text-align: right;\">\n",
              "      <th></th>\n",
              "      <th>SEQUENCE_NO</th>\n",
              "      <th>STATUS_CHECK</th>\n",
              "      <th>ACTIVE_YN</th>\n",
              "      <th>ENTRY</th>\n",
              "      <th>REVENUE</th>\n",
              "      <th>WINNINGS_1</th>\n",
              "      <th>WINNINGS_2</th>\n",
              "      <th>DISCOUNT</th>\n",
              "      <th>DEPOSIT</th>\n",
              "      <th>DEPOSIT_NUMBER</th>\n",
              "      <th>DEPOSIT_2</th>\n",
              "      <th>WITHDRAW</th>\n",
              "      <th>WITHDRAW_NUMBER</th>\n",
              "      <th>DEPOSIT_TRAILS</th>\n",
              "      <th>ENTRY_NUMBER</th>\n",
              "      <th>WINNINGS_NUMBER</th>\n",
              "      <th>PRACTICE_ENTRY</th>\n",
              "      <th>PRACTICE_WINNINGS</th>\n",
              "      <th>PRACTICE_ENTRY_NUMBER</th>\n",
              "      <th>PRACTICE_WINNINGS_NUMBER</th>\n",
              "      <th>CATEGORY_1_B</th>\n",
              "      <th>CATEGORY_1_C</th>\n",
              "      <th>CATEGORY_1_D</th>\n",
              "      <th>CATEGORY_1_E</th>\n",
              "      <th>CATEGORY_1_F</th>\n",
              "      <th>CATEGORY_1_G</th>\n",
              "      <th>CATEGORY_1_I</th>\n",
              "      <th>CATEGORY_1_J</th>\n",
              "      <th>CATEGORY_1_K</th>\n",
              "      <th>CATEGORY_1_L</th>\n",
              "      <th>CATEGORY_1_M</th>\n",
              "      <th>CATEGORY_2_B</th>\n",
              "      <th>CATEGORY_2_C</th>\n",
              "      <th>CATEGORY_2_D</th>\n",
              "      <th>CATEGORY_2_E</th>\n",
              "      <th>CATEGORY_2_F</th>\n",
              "      <th>CATEGORY_2_G</th>\n",
              "      <th>CATEGORY_2_H</th>\n",
              "      <th>CATEGORY_2_I</th>\n",
              "    </tr>\n",
              "    <tr>\n",
              "      <th>UNIQUE_IDENTIFIER</th>\n",
              "      <th></th>\n",
              "      <th></th>\n",
              "      <th></th>\n",
              "      <th></th>\n",
              "      <th></th>\n",
              "      <th></th>\n",
              "      <th></th>\n",
              "      <th></th>\n",
              "      <th></th>\n",
              "      <th></th>\n",
              "      <th></th>\n",
              "      <th></th>\n",
              "      <th></th>\n",
              "      <th></th>\n",
              "      <th></th>\n",
              "      <th></th>\n",
              "      <th></th>\n",
              "      <th></th>\n",
              "      <th></th>\n",
              "      <th></th>\n",
              "      <th></th>\n",
              "      <th></th>\n",
              "      <th></th>\n",
              "      <th></th>\n",
              "      <th></th>\n",
              "      <th></th>\n",
              "      <th></th>\n",
              "      <th></th>\n",
              "      <th></th>\n",
              "      <th></th>\n",
              "      <th></th>\n",
              "      <th></th>\n",
              "      <th></th>\n",
              "      <th></th>\n",
              "      <th></th>\n",
              "      <th></th>\n",
              "      <th></th>\n",
              "      <th></th>\n",
              "      <th></th>\n",
              "    </tr>\n",
              "  </thead>\n",
              "  <tbody>\n",
              "    <tr>\n",
              "      <th>98481267304</th>\n",
              "      <td>4.0</td>\n",
              "      <td>0.0</td>\n",
              "      <td>1.000000</td>\n",
              "      <td>0.112236</td>\n",
              "      <td>0.008682</td>\n",
              "      <td>0.052929</td>\n",
              "      <td>0.0</td>\n",
              "      <td>0.000000</td>\n",
              "      <td>0.035714</td>\n",
              "      <td>0.014286</td>\n",
              "      <td>0.035714</td>\n",
              "      <td>0.000000</td>\n",
              "      <td>0.000000</td>\n",
              "      <td>0.000000</td>\n",
              "      <td>0.928571</td>\n",
              "      <td>0.442857</td>\n",
              "      <td>0.0</td>\n",
              "      <td>0.0</td>\n",
              "      <td>0.0</td>\n",
              "      <td>0.0</td>\n",
              "      <td>0</td>\n",
              "      <td>0</td>\n",
              "      <td>0.0</td>\n",
              "      <td>0.0</td>\n",
              "      <td>0</td>\n",
              "      <td>0</td>\n",
              "      <td>0</td>\n",
              "      <td>0</td>\n",
              "      <td>0</td>\n",
              "      <td>0</td>\n",
              "      <td>1</td>\n",
              "      <td>1</td>\n",
              "      <td>0</td>\n",
              "      <td>0</td>\n",
              "      <td>0</td>\n",
              "      <td>0</td>\n",
              "      <td>0</td>\n",
              "      <td>0</td>\n",
              "      <td>0</td>\n",
              "    </tr>\n",
              "    <tr>\n",
              "      <th>98481267698</th>\n",
              "      <td>10.0</td>\n",
              "      <td>1.0</td>\n",
              "      <td>0.947368</td>\n",
              "      <td>30.285742</td>\n",
              "      <td>3.733455</td>\n",
              "      <td>25.120618</td>\n",
              "      <td>0.0</td>\n",
              "      <td>1.163158</td>\n",
              "      <td>10.263158</td>\n",
              "      <td>0.052632</td>\n",
              "      <td>0.526316</td>\n",
              "      <td>1.357895</td>\n",
              "      <td>0.010526</td>\n",
              "      <td>0.684211</td>\n",
              "      <td>0.700000</td>\n",
              "      <td>0.247368</td>\n",
              "      <td>0.0</td>\n",
              "      <td>0.0</td>\n",
              "      <td>0.0</td>\n",
              "      <td>0.0</td>\n",
              "      <td>0</td>\n",
              "      <td>0</td>\n",
              "      <td>0.0</td>\n",
              "      <td>0.0</td>\n",
              "      <td>0</td>\n",
              "      <td>0</td>\n",
              "      <td>0</td>\n",
              "      <td>0</td>\n",
              "      <td>0</td>\n",
              "      <td>0</td>\n",
              "      <td>1</td>\n",
              "      <td>0</td>\n",
              "      <td>0</td>\n",
              "      <td>0</td>\n",
              "      <td>0</td>\n",
              "      <td>0</td>\n",
              "      <td>0</td>\n",
              "      <td>0</td>\n",
              "      <td>1</td>\n",
              "    </tr>\n",
              "    <tr>\n",
              "      <th>98481269325</th>\n",
              "      <td>9.5</td>\n",
              "      <td>0.0</td>\n",
              "      <td>1.000000</td>\n",
              "      <td>0.083720</td>\n",
              "      <td>0.007540</td>\n",
              "      <td>0.052828</td>\n",
              "      <td>0.0</td>\n",
              "      <td>0.033333</td>\n",
              "      <td>0.013889</td>\n",
              "      <td>0.005556</td>\n",
              "      <td>0.013889</td>\n",
              "      <td>0.000000</td>\n",
              "      <td>0.000000</td>\n",
              "      <td>0.027778</td>\n",
              "      <td>1.311111</td>\n",
              "      <td>0.305556</td>\n",
              "      <td>0.0</td>\n",
              "      <td>0.0</td>\n",
              "      <td>0.0</td>\n",
              "      <td>0.0</td>\n",
              "      <td>0</td>\n",
              "      <td>0</td>\n",
              "      <td>0.0</td>\n",
              "      <td>0.0</td>\n",
              "      <td>0</td>\n",
              "      <td>0</td>\n",
              "      <td>0</td>\n",
              "      <td>0</td>\n",
              "      <td>0</td>\n",
              "      <td>0</td>\n",
              "      <td>1</td>\n",
              "      <td>0</td>\n",
              "      <td>0</td>\n",
              "      <td>1</td>\n",
              "      <td>0</td>\n",
              "      <td>0</td>\n",
              "      <td>0</td>\n",
              "      <td>0</td>\n",
              "      <td>0</td>\n",
              "    </tr>\n",
              "    <tr>\n",
              "      <th>98481271512</th>\n",
              "      <td>3.0</td>\n",
              "      <td>0.0</td>\n",
              "      <td>1.000000</td>\n",
              "      <td>0.777000</td>\n",
              "      <td>0.122220</td>\n",
              "      <td>0.017000</td>\n",
              "      <td>0.0</td>\n",
              "      <td>0.240000</td>\n",
              "      <td>0.700000</td>\n",
              "      <td>0.040000</td>\n",
              "      <td>0.200000</td>\n",
              "      <td>0.000000</td>\n",
              "      <td>0.000000</td>\n",
              "      <td>0.540000</td>\n",
              "      <td>0.900000</td>\n",
              "      <td>0.040000</td>\n",
              "      <td>0.0</td>\n",
              "      <td>0.0</td>\n",
              "      <td>0.0</td>\n",
              "      <td>0.0</td>\n",
              "      <td>0</td>\n",
              "      <td>0</td>\n",
              "      <td>0.0</td>\n",
              "      <td>0.0</td>\n",
              "      <td>0</td>\n",
              "      <td>0</td>\n",
              "      <td>0</td>\n",
              "      <td>0</td>\n",
              "      <td>0</td>\n",
              "      <td>0</td>\n",
              "      <td>1</td>\n",
              "      <td>0</td>\n",
              "      <td>0</td>\n",
              "      <td>0</td>\n",
              "      <td>1</td>\n",
              "      <td>0</td>\n",
              "      <td>0</td>\n",
              "      <td>0</td>\n",
              "      <td>0</td>\n",
              "    </tr>\n",
              "    <tr>\n",
              "      <th>98481273023</th>\n",
              "      <td>1.0</td>\n",
              "      <td>0.0</td>\n",
              "      <td>1.000000</td>\n",
              "      <td>0.500000</td>\n",
              "      <td>0.080000</td>\n",
              "      <td>0.000000</td>\n",
              "      <td>0.0</td>\n",
              "      <td>0.000000</td>\n",
              "      <td>0.500000</td>\n",
              "      <td>0.100000</td>\n",
              "      <td>0.500000</td>\n",
              "      <td>0.000000</td>\n",
              "      <td>0.000000</td>\n",
              "      <td>0.000000</td>\n",
              "      <td>0.200000</td>\n",
              "      <td>0.000000</td>\n",
              "      <td>0.0</td>\n",
              "      <td>0.0</td>\n",
              "      <td>0.0</td>\n",
              "      <td>0.0</td>\n",
              "      <td>0</td>\n",
              "      <td>0</td>\n",
              "      <td>0.0</td>\n",
              "      <td>0.0</td>\n",
              "      <td>0</td>\n",
              "      <td>0</td>\n",
              "      <td>0</td>\n",
              "      <td>0</td>\n",
              "      <td>0</td>\n",
              "      <td>0</td>\n",
              "      <td>1</td>\n",
              "      <td>0</td>\n",
              "      <td>0</td>\n",
              "      <td>0</td>\n",
              "      <td>0</td>\n",
              "      <td>0</td>\n",
              "      <td>0</td>\n",
              "      <td>0</td>\n",
              "      <td>1</td>\n",
              "    </tr>\n",
              "  </tbody>\n",
              "</table>\n",
              "</div>"
            ],
            "text/plain": [
              "                   SEQUENCE_NO  STATUS_CHECK  ...  CATEGORY_2_H  CATEGORY_2_I\n",
              "UNIQUE_IDENTIFIER                             ...                            \n",
              "98481267304                4.0           0.0  ...             0             0\n",
              "98481267698               10.0           1.0  ...             0             1\n",
              "98481269325                9.5           0.0  ...             0             0\n",
              "98481271512                3.0           0.0  ...             0             0\n",
              "98481273023                1.0           0.0  ...             0             1\n",
              "\n",
              "[5 rows x 39 columns]"
            ]
          },
          "metadata": {},
          "execution_count": 28
        }
      ]
    },
    {
      "cell_type": "code",
      "metadata": {
        "id": "9ac8f18f"
      },
      "source": [
        "scaler1 = StandardScaler()\n",
        "X1_scaled = scaler1.fit_transform(X1_train)\n",
        "X1_test_scaled = scaler1.transform(X1_test)"
      ],
      "id": "9ac8f18f",
      "execution_count": 29,
      "outputs": []
    },
    {
      "cell_type": "code",
      "metadata": {
        "id": "8c1876c3"
      },
      "source": [
        "input1 = tfl.Input(shape=(X1_scaled.shape[1]))\n",
        "#1st layer\n",
        "x = tfl.Dense(256, kernel_initializer=\"glorot_normal\", kernel_regularizer=\"l2\")(input1)\n",
        "x = tfl.BatchNormalization()(x)\n",
        "x = tfl.ELU(alpha=1)(x)\n",
        "x = tfl.Dropout(0.5)(x)\n",
        "\n",
        "# 2nd layer\n",
        "x = tfl.Dense(128, kernel_initializer=\"glorot_normal\", kernel_regularizer=\"l2\")(x)\n",
        "x = tfl.BatchNormalization()(x)\n",
        "x = tfl.ELU(alpha=1)(x)\n",
        "x = tfl.Dropout(0.5)(x)\n",
        "\n",
        "# # 3rd layer\n",
        "# x = tfl.Dense(64, kernel_initializer=\"glorot_normal\", kernel_regularizer=\"l2\")(x)\n",
        "# x = tfl.BatchNormalization()(x)\n",
        "# x = tfl.ELU(alpha=1)(x)\n",
        "\n",
        "# #4th layer\n",
        "# x = tfl.Dense(32, kernel_initializer=\"glorot_normal\", kernel_regularizer=\"l2\")(x)\n",
        "# x = tfl.BatchNormalization()(x)\n",
        "# x = tfl.ELU(alpha=1)(x)\n",
        "\n",
        "# 5th layer\n",
        "output1 = tfl.Dense(1, kernel_initializer=\"glorot_normal\", kernel_regularizer=\"l2\")(x)\n",
        "\n",
        "model1 = tf.keras.Model(inputs=input1, outputs=output1)"
      ],
      "id": "8c1876c3",
      "execution_count": 30,
      "outputs": []
    },
    {
      "cell_type": "code",
      "metadata": {
        "id": "d3c87da6"
      },
      "source": [
        "model1.compile(optimizer=tf.keras.optimizers.Adam(learning_rate=0.0001), loss=\"mse\")"
      ],
      "id": "d3c87da6",
      "execution_count": 31,
      "outputs": []
    },
    {
      "cell_type": "code",
      "metadata": {
        "id": "5a95fa8b",
        "colab": {
          "base_uri": "https://localhost:8080/"
        },
        "outputId": "6880fa5e-737d-46db-b937-d6a794dd606f"
      },
      "source": [
        "model1.fit(x=X1_scaled, y=Y_train['Y1'].values, epochs=100, batch_size=512, validation_split=0.1)"
      ],
      "id": "5a95fa8b",
      "execution_count": 32,
      "outputs": [
        {
          "output_type": "stream",
          "name": "stdout",
          "text": [
            "Epoch 1/100\n",
            "170/170 [==============================] - 2s 6ms/step - loss: 94.0625 - val_loss: 101.9454\n",
            "Epoch 2/100\n",
            "170/170 [==============================] - 1s 5ms/step - loss: 83.4638 - val_loss: 92.3889\n",
            "Epoch 3/100\n",
            "170/170 [==============================] - 1s 5ms/step - loss: 76.6696 - val_loss: 86.3388\n",
            "Epoch 4/100\n",
            "170/170 [==============================] - 1s 5ms/step - loss: 72.8523 - val_loss: 81.6360\n",
            "Epoch 5/100\n",
            "170/170 [==============================] - 1s 5ms/step - loss: 68.7738 - val_loss: 77.6942\n",
            "Epoch 6/100\n",
            "170/170 [==============================] - 1s 5ms/step - loss: 65.3674 - val_loss: 74.2461\n",
            "Epoch 7/100\n",
            "170/170 [==============================] - 1s 5ms/step - loss: 62.3842 - val_loss: 71.5178\n",
            "Epoch 8/100\n",
            "170/170 [==============================] - 1s 5ms/step - loss: 60.6828 - val_loss: 68.8069\n",
            "Epoch 9/100\n",
            "170/170 [==============================] - 1s 5ms/step - loss: 58.4525 - val_loss: 66.6117\n",
            "Epoch 10/100\n",
            "170/170 [==============================] - 1s 5ms/step - loss: 57.1322 - val_loss: 64.9800\n",
            "Epoch 11/100\n",
            "170/170 [==============================] - 1s 5ms/step - loss: 56.0076 - val_loss: 63.2920\n",
            "Epoch 12/100\n",
            "170/170 [==============================] - 1s 5ms/step - loss: 55.1823 - val_loss: 62.3347\n",
            "Epoch 13/100\n",
            "170/170 [==============================] - 1s 5ms/step - loss: 54.7657 - val_loss: 61.2984\n",
            "Epoch 14/100\n",
            "170/170 [==============================] - 1s 5ms/step - loss: 54.5430 - val_loss: 60.6496\n",
            "Epoch 15/100\n",
            "170/170 [==============================] - 1s 5ms/step - loss: 53.6069 - val_loss: 59.9471\n",
            "Epoch 16/100\n",
            "170/170 [==============================] - 1s 6ms/step - loss: 52.4687 - val_loss: 59.2707\n",
            "Epoch 17/100\n",
            "170/170 [==============================] - 1s 5ms/step - loss: 52.5070 - val_loss: 58.9770\n",
            "Epoch 18/100\n",
            "170/170 [==============================] - 1s 5ms/step - loss: 52.7909 - val_loss: 58.6403\n",
            "Epoch 19/100\n",
            "170/170 [==============================] - 1s 5ms/step - loss: 53.2483 - val_loss: 58.3310\n",
            "Epoch 20/100\n",
            "170/170 [==============================] - 1s 5ms/step - loss: 51.6651 - val_loss: 58.1917\n",
            "Epoch 21/100\n",
            "170/170 [==============================] - 1s 5ms/step - loss: 52.4711 - val_loss: 57.8703\n",
            "Epoch 22/100\n",
            "170/170 [==============================] - 1s 5ms/step - loss: 52.3295 - val_loss: 57.5261\n",
            "Epoch 23/100\n",
            "170/170 [==============================] - 1s 6ms/step - loss: 52.0615 - val_loss: 57.4424\n",
            "Epoch 24/100\n",
            "170/170 [==============================] - 1s 5ms/step - loss: 52.1578 - val_loss: 57.4241\n",
            "Epoch 25/100\n",
            "170/170 [==============================] - 1s 6ms/step - loss: 51.0860 - val_loss: 57.0847\n",
            "Epoch 26/100\n",
            "170/170 [==============================] - 1s 6ms/step - loss: 52.0336 - val_loss: 56.9726\n",
            "Epoch 27/100\n",
            "170/170 [==============================] - 1s 5ms/step - loss: 51.1071 - val_loss: 56.8809\n",
            "Epoch 28/100\n",
            "170/170 [==============================] - 1s 5ms/step - loss: 50.9523 - val_loss: 56.8582\n",
            "Epoch 29/100\n",
            "170/170 [==============================] - 1s 5ms/step - loss: 50.0660 - val_loss: 56.6695\n",
            "Epoch 30/100\n",
            "170/170 [==============================] - 1s 5ms/step - loss: 51.8585 - val_loss: 56.6303\n",
            "Epoch 31/100\n",
            "170/170 [==============================] - 1s 5ms/step - loss: 50.8192 - val_loss: 56.4105\n",
            "Epoch 32/100\n",
            "170/170 [==============================] - 1s 5ms/step - loss: 50.5959 - val_loss: 56.3727\n",
            "Epoch 33/100\n",
            "170/170 [==============================] - 1s 5ms/step - loss: 50.9725 - val_loss: 56.1655\n",
            "Epoch 34/100\n",
            "170/170 [==============================] - 1s 5ms/step - loss: 50.6479 - val_loss: 55.9169\n",
            "Epoch 35/100\n",
            "170/170 [==============================] - 1s 5ms/step - loss: 50.2262 - val_loss: 56.0999\n",
            "Epoch 36/100\n",
            "170/170 [==============================] - 1s 5ms/step - loss: 50.6265 - val_loss: 56.1445\n",
            "Epoch 37/100\n",
            "170/170 [==============================] - 1s 5ms/step - loss: 50.1574 - val_loss: 56.0224\n",
            "Epoch 38/100\n",
            "170/170 [==============================] - 1s 5ms/step - loss: 50.8434 - val_loss: 55.7468\n",
            "Epoch 39/100\n",
            "170/170 [==============================] - 1s 6ms/step - loss: 49.3496 - val_loss: 55.7265\n",
            "Epoch 40/100\n",
            "170/170 [==============================] - 1s 5ms/step - loss: 50.4982 - val_loss: 55.7247\n",
            "Epoch 41/100\n",
            "170/170 [==============================] - 1s 5ms/step - loss: 50.1722 - val_loss: 55.5869\n",
            "Epoch 42/100\n",
            "170/170 [==============================] - 1s 5ms/step - loss: 50.4376 - val_loss: 55.3469\n",
            "Epoch 43/100\n",
            "170/170 [==============================] - 1s 5ms/step - loss: 49.3263 - val_loss: 55.6514\n",
            "Epoch 44/100\n",
            "170/170 [==============================] - 1s 5ms/step - loss: 48.9222 - val_loss: 55.4182\n",
            "Epoch 45/100\n",
            "170/170 [==============================] - 1s 5ms/step - loss: 49.2236 - val_loss: 55.5216\n",
            "Epoch 46/100\n",
            "170/170 [==============================] - 1s 5ms/step - loss: 49.3543 - val_loss: 55.4481\n",
            "Epoch 47/100\n",
            "170/170 [==============================] - 1s 5ms/step - loss: 48.9134 - val_loss: 55.1329\n",
            "Epoch 48/100\n",
            "170/170 [==============================] - 1s 6ms/step - loss: 49.7145 - val_loss: 55.1939\n",
            "Epoch 49/100\n",
            "170/170 [==============================] - 1s 5ms/step - loss: 49.3065 - val_loss: 55.0590\n",
            "Epoch 50/100\n",
            "170/170 [==============================] - 1s 5ms/step - loss: 49.6363 - val_loss: 55.0260\n",
            "Epoch 51/100\n",
            "170/170 [==============================] - 1s 5ms/step - loss: 49.0960 - val_loss: 55.1413\n",
            "Epoch 52/100\n",
            "170/170 [==============================] - 1s 5ms/step - loss: 49.1435 - val_loss: 55.0633\n",
            "Epoch 53/100\n",
            "170/170 [==============================] - 1s 5ms/step - loss: 49.3744 - val_loss: 55.0692\n",
            "Epoch 54/100\n",
            "170/170 [==============================] - 1s 5ms/step - loss: 48.7209 - val_loss: 54.9497\n",
            "Epoch 55/100\n",
            "170/170 [==============================] - 1s 5ms/step - loss: 49.5476 - val_loss: 55.1135\n",
            "Epoch 56/100\n",
            "170/170 [==============================] - 1s 5ms/step - loss: 49.4020 - val_loss: 54.9188\n",
            "Epoch 57/100\n",
            "170/170 [==============================] - 1s 5ms/step - loss: 48.2114 - val_loss: 54.9081\n",
            "Epoch 58/100\n",
            "170/170 [==============================] - 1s 5ms/step - loss: 48.5659 - val_loss: 54.7956\n",
            "Epoch 59/100\n",
            "170/170 [==============================] - 1s 6ms/step - loss: 48.0586 - val_loss: 54.9634\n",
            "Epoch 60/100\n",
            "170/170 [==============================] - 1s 5ms/step - loss: 48.8762 - val_loss: 54.8859\n",
            "Epoch 61/100\n",
            "170/170 [==============================] - 1s 6ms/step - loss: 48.7398 - val_loss: 54.7957\n",
            "Epoch 62/100\n",
            "170/170 [==============================] - 1s 5ms/step - loss: 48.3987 - val_loss: 54.9234\n",
            "Epoch 63/100\n",
            "170/170 [==============================] - 1s 6ms/step - loss: 47.8236 - val_loss: 54.6880\n",
            "Epoch 64/100\n",
            "170/170 [==============================] - 1s 5ms/step - loss: 48.8389 - val_loss: 54.9171\n",
            "Epoch 65/100\n",
            "170/170 [==============================] - 1s 5ms/step - loss: 48.5694 - val_loss: 54.9113\n",
            "Epoch 66/100\n",
            "170/170 [==============================] - 1s 5ms/step - loss: 48.6297 - val_loss: 55.0087\n",
            "Epoch 67/100\n",
            "170/170 [==============================] - 1s 5ms/step - loss: 48.8245 - val_loss: 54.7958\n",
            "Epoch 68/100\n",
            "170/170 [==============================] - 1s 5ms/step - loss: 47.5334 - val_loss: 54.6693\n",
            "Epoch 69/100\n",
            "170/170 [==============================] - 1s 5ms/step - loss: 47.0342 - val_loss: 54.7005\n",
            "Epoch 70/100\n",
            "170/170 [==============================] - 1s 5ms/step - loss: 48.2733 - val_loss: 54.5422\n",
            "Epoch 71/100\n",
            "170/170 [==============================] - 1s 5ms/step - loss: 48.1769 - val_loss: 54.5524\n",
            "Epoch 72/100\n",
            "170/170 [==============================] - 1s 5ms/step - loss: 48.7116 - val_loss: 54.6058\n",
            "Epoch 73/100\n",
            "170/170 [==============================] - 1s 5ms/step - loss: 47.9591 - val_loss: 54.4939\n",
            "Epoch 74/100\n",
            "170/170 [==============================] - 1s 5ms/step - loss: 48.8330 - val_loss: 54.8089\n",
            "Epoch 75/100\n",
            "170/170 [==============================] - 1s 5ms/step - loss: 48.7857 - val_loss: 54.6737\n",
            "Epoch 76/100\n",
            "170/170 [==============================] - 1s 5ms/step - loss: 48.4693 - val_loss: 54.7285\n",
            "Epoch 77/100\n",
            "170/170 [==============================] - 1s 5ms/step - loss: 47.3919 - val_loss: 54.7417\n",
            "Epoch 78/100\n",
            "170/170 [==============================] - 1s 5ms/step - loss: 47.6757 - val_loss: 54.6092\n",
            "Epoch 79/100\n",
            "170/170 [==============================] - 1s 6ms/step - loss: 48.1317 - val_loss: 54.4587\n",
            "Epoch 80/100\n",
            "170/170 [==============================] - 1s 5ms/step - loss: 47.6940 - val_loss: 54.7272\n",
            "Epoch 81/100\n",
            "170/170 [==============================] - 1s 5ms/step - loss: 47.6293 - val_loss: 54.5535\n",
            "Epoch 82/100\n",
            "170/170 [==============================] - 1s 6ms/step - loss: 47.6296 - val_loss: 54.7563\n",
            "Epoch 83/100\n",
            "170/170 [==============================] - 1s 5ms/step - loss: 48.0261 - val_loss: 54.6735\n",
            "Epoch 84/100\n",
            "170/170 [==============================] - 1s 5ms/step - loss: 46.6133 - val_loss: 54.5821\n",
            "Epoch 85/100\n",
            "170/170 [==============================] - 1s 6ms/step - loss: 48.4482 - val_loss: 54.4499\n",
            "Epoch 86/100\n",
            "170/170 [==============================] - 1s 5ms/step - loss: 48.0261 - val_loss: 54.5914\n",
            "Epoch 87/100\n",
            "170/170 [==============================] - 1s 5ms/step - loss: 47.3326 - val_loss: 54.4471\n",
            "Epoch 88/100\n",
            "170/170 [==============================] - 1s 5ms/step - loss: 47.7484 - val_loss: 54.6473\n",
            "Epoch 89/100\n",
            "170/170 [==============================] - 1s 5ms/step - loss: 47.0888 - val_loss: 54.5780\n",
            "Epoch 90/100\n",
            "170/170 [==============================] - 1s 6ms/step - loss: 47.4789 - val_loss: 54.5326\n",
            "Epoch 91/100\n",
            "170/170 [==============================] - 1s 6ms/step - loss: 47.7369 - val_loss: 54.6960\n",
            "Epoch 92/100\n",
            "170/170 [==============================] - 1s 5ms/step - loss: 48.3427 - val_loss: 54.4589\n",
            "Epoch 93/100\n",
            "170/170 [==============================] - 1s 6ms/step - loss: 47.7092 - val_loss: 54.5723\n",
            "Epoch 94/100\n",
            "170/170 [==============================] - 1s 6ms/step - loss: 48.1318 - val_loss: 54.5318\n",
            "Epoch 95/100\n",
            "170/170 [==============================] - 1s 5ms/step - loss: 47.6784 - val_loss: 54.3874\n",
            "Epoch 96/100\n",
            "170/170 [==============================] - 1s 6ms/step - loss: 46.8542 - val_loss: 54.3588\n",
            "Epoch 97/100\n",
            "170/170 [==============================] - 1s 6ms/step - loss: 47.6580 - val_loss: 54.7165\n",
            "Epoch 98/100\n",
            "170/170 [==============================] - 1s 5ms/step - loss: 46.8936 - val_loss: 54.4203\n",
            "Epoch 99/100\n",
            "170/170 [==============================] - 1s 6ms/step - loss: 47.3634 - val_loss: 54.5099\n",
            "Epoch 100/100\n",
            "170/170 [==============================] - 1s 5ms/step - loss: 46.8520 - val_loss: 54.2735\n"
          ]
        },
        {
          "output_type": "execute_result",
          "data": {
            "text/plain": [
              "<keras.callbacks.History at 0x7f6a41647b10>"
            ]
          },
          "metadata": {},
          "execution_count": 32
        }
      ]
    },
    {
      "cell_type": "code",
      "metadata": {
        "id": "1e5089d7",
        "colab": {
          "base_uri": "https://localhost:8080/",
          "height": 282
        },
        "outputId": "ab91d003-9800-445a-dad5-04c1cab574b4"
      },
      "source": [
        "pd.DataFrame(model1.history.history).plot()"
      ],
      "id": "1e5089d7",
      "execution_count": 33,
      "outputs": [
        {
          "output_type": "execute_result",
          "data": {
            "text/plain": [
              "<matplotlib.axes._subplots.AxesSubplot at 0x7f6a41629210>"
            ]
          },
          "metadata": {},
          "execution_count": 33
        },
        {
          "output_type": "display_data",
          "data": {
            "image/png": "[encoded data removed]",
            "text/plain": [
              "<Figure size 432x288 with 1 Axes>"
            ]
          },
          "metadata": {
            "needs_background": "light"
          }
        }
      ]
    },
    {
      "cell_type": "code",
      "metadata": {
        "id": "bdc4aa48"
      },
      "source": [
        "predict_y1 = model1.predict(X1_test_scaled)"
      ],
      "id": "bdc4aa48",
      "execution_count": 34,
      "outputs": []
    },
    {
      "cell_type": "code",
      "metadata": {
        "id": "019803a4",
        "colab": {
          "base_uri": "https://localhost:8080/"
        },
        "outputId": "f0f735c2-8ea1-45a4-b05e-a767512fa5a4"
      },
      "source": [
        "predict_y1"
      ],
      "id": "019803a4",
      "execution_count": 35,
      "outputs": [
        {
          "output_type": "execute_result",
          "data": {
            "text/plain": [
              "array([[1.5880338],\n",
              "       [4.169469 ],\n",
              "       [2.9566438],\n",
              "       ...,\n",
              "       [2.1474123],\n",
              "       [4.1173677],\n",
              "       [6.3594995]], dtype=float32)"
            ]
          },
          "metadata": {},
          "execution_count": 35
        }
      ]
    },
    {
      "cell_type": "code",
      "metadata": {
        "id": "d756a5d8"
      },
      "source": [
        "customer_index = test_onehot['UNIQUE_IDENTIFIER'].unique()"
      ],
      "id": "d756a5d8",
      "execution_count": 36,
      "outputs": []
    },
    {
      "cell_type": "code",
      "metadata": {
        "id": "b710731a"
      },
      "source": [
        "customer_index = np.expand_dims(customer_index, axis=1)"
      ],
      "id": "b710731a",
      "execution_count": 37,
      "outputs": []
    },
    {
      "cell_type": "code",
      "metadata": {
        "id": "0c764c10",
        "colab": {
          "base_uri": "https://localhost:8080/"
        },
        "outputId": "834fa668-c681-488b-af79-158ec4daac33"
      },
      "source": [
        "customer_index"
      ],
      "id": "0c764c10",
      "execution_count": 38,
      "outputs": [
        {
          "output_type": "execute_result",
          "data": {
            "text/plain": [
              "array([[98481269471],\n",
              "       [98481270499],\n",
              "       [98481272694],\n",
              "       ...,\n",
              "       [98537204881],\n",
              "       [98537205013],\n",
              "       [98537205065]])"
            ]
          },
          "metadata": {},
          "execution_count": 38
        }
      ]
    },
    {
      "cell_type": "code",
      "metadata": {
        "id": "da6f186c"
      },
      "source": [
        "predictions = pd.DataFrame(np.hstack((customer_index, predict_y1, predict_y2)), columns=['UNIQUE_IDENTIFIER', 'Y1', 'Y2'])"
      ],
      "id": "da6f186c",
      "execution_count": 39,
      "outputs": []
    },
    {
      "cell_type": "code",
      "metadata": {
        "id": "624fe433",
        "colab": {
          "base_uri": "https://localhost:8080/",
          "height": 417
        },
        "outputId": "5e73a885-3b86-41ad-b2b0-a8c3353157eb"
      },
      "source": [
        "predictions"
      ],
      "id": "624fe433",
      "execution_count": 40,
      "outputs": [
        {
          "output_type": "execute_result",
          "data": {
            "text/html": [
              "<div>\n",
              "<style scoped>\n",
              "    .dataframe tbody tr th:only-of-type {\n",
              "        vertical-align: middle;\n",
              "    }\n",
              "\n",
              "    .dataframe tbody tr th {\n",
              "        vertical-align: top;\n",
              "    }\n",
              "\n",
              "    .dataframe thead th {\n",
              "        text-align: right;\n",
              "    }\n",
              "</style>\n",
              "<table border=\"1\" class=\"dataframe\">\n",
              "  <thead>\n",
              "    <tr style=\"text-align: right;\">\n",
              "      <th></th>\n",
              "      <th>UNIQUE_IDENTIFIER</th>\n",
              "      <th>Y1</th>\n",
              "      <th>Y2</th>\n",
              "    </tr>\n",
              "  </thead>\n",
              "  <tbody>\n",
              "    <tr>\n",
              "      <th>0</th>\n",
              "      <td>9.848127e+10</td>\n",
              "      <td>1.588034</td>\n",
              "      <td>8.124355</td>\n",
              "    </tr>\n",
              "    <tr>\n",
              "      <th>1</th>\n",
              "      <td>9.848127e+10</td>\n",
              "      <td>4.169469</td>\n",
              "      <td>78.357590</td>\n",
              "    </tr>\n",
              "    <tr>\n",
              "      <th>2</th>\n",
              "      <td>9.848127e+10</td>\n",
              "      <td>2.956644</td>\n",
              "      <td>74.385117</td>\n",
              "    </tr>\n",
              "    <tr>\n",
              "      <th>3</th>\n",
              "      <td>9.848127e+10</td>\n",
              "      <td>4.069886</td>\n",
              "      <td>151.369019</td>\n",
              "    </tr>\n",
              "    <tr>\n",
              "      <th>4</th>\n",
              "      <td>9.848128e+10</td>\n",
              "      <td>2.839535</td>\n",
              "      <td>33.403427</td>\n",
              "    </tr>\n",
              "    <tr>\n",
              "      <th>...</th>\n",
              "      <td>...</td>\n",
              "      <td>...</td>\n",
              "      <td>...</td>\n",
              "    </tr>\n",
              "    <tr>\n",
              "      <th>65237</th>\n",
              "      <td>9.853720e+10</td>\n",
              "      <td>5.191697</td>\n",
              "      <td>397.785187</td>\n",
              "    </tr>\n",
              "    <tr>\n",
              "      <th>65238</th>\n",
              "      <td>9.853720e+10</td>\n",
              "      <td>3.040583</td>\n",
              "      <td>5.436234</td>\n",
              "    </tr>\n",
              "    <tr>\n",
              "      <th>65239</th>\n",
              "      <td>9.853720e+10</td>\n",
              "      <td>2.147412</td>\n",
              "      <td>36.921547</td>\n",
              "    </tr>\n",
              "    <tr>\n",
              "      <th>65240</th>\n",
              "      <td>9.853721e+10</td>\n",
              "      <td>4.117368</td>\n",
              "      <td>190.954681</td>\n",
              "    </tr>\n",
              "    <tr>\n",
              "      <th>65241</th>\n",
              "      <td>9.853721e+10</td>\n",
              "      <td>6.359499</td>\n",
              "      <td>374.504944</td>\n",
              "    </tr>\n",
              "  </tbody>\n",
              "</table>\n",
              "<p>65242 rows × 3 columns</p>\n",
              "</div>"
            ],
            "text/plain": [
              "       UNIQUE_IDENTIFIER        Y1          Y2\n",
              "0           9.848127e+10  1.588034    8.124355\n",
              "1           9.848127e+10  4.169469   78.357590\n",
              "2           9.848127e+10  2.956644   74.385117\n",
              "3           9.848127e+10  4.069886  151.369019\n",
              "4           9.848128e+10  2.839535   33.403427\n",
              "...                  ...       ...         ...\n",
              "65237       9.853720e+10  5.191697  397.785187\n",
              "65238       9.853720e+10  3.040583    5.436234\n",
              "65239       9.853720e+10  2.147412   36.921547\n",
              "65240       9.853721e+10  4.117368  190.954681\n",
              "65241       9.853721e+10  6.359499  374.504944\n",
              "\n",
              "[65242 rows x 3 columns]"
            ]
          },
          "metadata": {},
          "execution_count": 40
        }
      ]
    },
    {
      "cell_type": "code",
      "metadata": {
        "id": "e40d8980"
      },
      "source": [
        "predictions['UNIQUE_IDENTIFIER'] = predictions['UNIQUE_IDENTIFIER'].astype(\"int64\")"
      ],
      "id": "e40d8980",
      "execution_count": 41,
      "outputs": []
    },
    {
      "cell_type": "code",
      "metadata": {
        "id": "edc7fd1e",
        "colab": {
          "base_uri": "https://localhost:8080/",
          "height": 417
        },
        "outputId": "f5388af5-307b-4258-88de-e884ca3b06a1"
      },
      "source": [
        "predictions"
      ],
      "id": "edc7fd1e",
      "execution_count": 42,
      "outputs": [
        {
          "output_type": "execute_result",
          "data": {
            "text/html": [
              "<div>\n",
              "<style scoped>\n",
              "    .dataframe tbody tr th:only-of-type {\n",
              "        vertical-align: middle;\n",
              "    }\n",
              "\n",
              "    .dataframe tbody tr th {\n",
              "        vertical-align: top;\n",
              "    }\n",
              "\n",
              "    .dataframe thead th {\n",
              "        text-align: right;\n",
              "    }\n",
              "</style>\n",
              "<table border=\"1\" class=\"dataframe\">\n",
              "  <thead>\n",
              "    <tr style=\"text-align: right;\">\n",
              "      <th></th>\n",
              "      <th>UNIQUE_IDENTIFIER</th>\n",
              "      <th>Y1</th>\n",
              "      <th>Y2</th>\n",
              "    </tr>\n",
              "  </thead>\n",
              "  <tbody>\n",
              "    <tr>\n",
              "      <th>0</th>\n",
              "      <td>98481269471</td>\n",
              "      <td>1.588034</td>\n",
              "      <td>8.124355</td>\n",
              "    </tr>\n",
              "    <tr>\n",
              "      <th>1</th>\n",
              "      <td>98481270499</td>\n",
              "      <td>4.169469</td>\n",
              "      <td>78.357590</td>\n",
              "    </tr>\n",
              "    <tr>\n",
              "      <th>2</th>\n",
              "      <td>98481272694</td>\n",
              "      <td>2.956644</td>\n",
              "      <td>74.385117</td>\n",
              "    </tr>\n",
              "    <tr>\n",
              "      <th>3</th>\n",
              "      <td>98481273365</td>\n",
              "      <td>4.069886</td>\n",
              "      <td>151.369019</td>\n",
              "    </tr>\n",
              "    <tr>\n",
              "      <th>4</th>\n",
              "      <td>98481278321</td>\n",
              "      <td>2.839535</td>\n",
              "      <td>33.403427</td>\n",
              "    </tr>\n",
              "    <tr>\n",
              "      <th>...</th>\n",
              "      <td>...</td>\n",
              "      <td>...</td>\n",
              "      <td>...</td>\n",
              "    </tr>\n",
              "    <tr>\n",
              "      <th>65237</th>\n",
              "      <td>98537204815</td>\n",
              "      <td>5.191697</td>\n",
              "      <td>397.785187</td>\n",
              "    </tr>\n",
              "    <tr>\n",
              "      <th>65238</th>\n",
              "      <td>98537204877</td>\n",
              "      <td>3.040583</td>\n",
              "      <td>5.436234</td>\n",
              "    </tr>\n",
              "    <tr>\n",
              "      <th>65239</th>\n",
              "      <td>98537204881</td>\n",
              "      <td>2.147412</td>\n",
              "      <td>36.921547</td>\n",
              "    </tr>\n",
              "    <tr>\n",
              "      <th>65240</th>\n",
              "      <td>98537205013</td>\n",
              "      <td>4.117368</td>\n",
              "      <td>190.954681</td>\n",
              "    </tr>\n",
              "    <tr>\n",
              "      <th>65241</th>\n",
              "      <td>98537205065</td>\n",
              "      <td>6.359499</td>\n",
              "      <td>374.504944</td>\n",
              "    </tr>\n",
              "  </tbody>\n",
              "</table>\n",
              "<p>65242 rows × 3 columns</p>\n",
              "</div>"
            ],
            "text/plain": [
              "       UNIQUE_IDENTIFIER        Y1          Y2\n",
              "0            98481269471  1.588034    8.124355\n",
              "1            98481270499  4.169469   78.357590\n",
              "2            98481272694  2.956644   74.385117\n",
              "3            98481273365  4.069886  151.369019\n",
              "4            98481278321  2.839535   33.403427\n",
              "...                  ...       ...         ...\n",
              "65237        98537204815  5.191697  397.785187\n",
              "65238        98537204877  3.040583    5.436234\n",
              "65239        98537204881  2.147412   36.921547\n",
              "65240        98537205013  4.117368  190.954681\n",
              "65241        98537205065  6.359499  374.504944\n",
              "\n",
              "[65242 rows x 3 columns]"
            ]
          },
          "metadata": {},
          "execution_count": 42
        }
      ]
    },
    {
      "cell_type": "code",
      "metadata": {
        "id": "850dc6eb",
        "colab": {
          "base_uri": "https://localhost:8080/"
        },
        "outputId": "fab24812-4e5f-4e0c-e1ae-9c1a05d0b857"
      },
      "source": [
        "predict=pd.DataFrame(model.predict(X2_train))\n",
        "predict1=pd.DataFrame(model1.predict(X1_scaled))\n",
        "pred=pd.concat([predict, predict1], axis=1)\n",
        "exact=pd.DataFrame(pred)\n",
        "\n",
        "from sklearn.metrics import mean_squared_error\n",
        "m1 = np.sqrt(mean_squared_error(Y_train.iloc[:,1],exact.iloc[:,0]))\n",
        "m2 = np.sqrt(mean_squared_error(Y_train.iloc[:,0],exact.iloc[:,1]))\n",
        "print((m1+m2)/2)"
      ],
      "id": "850dc6eb",
      "execution_count": 48,
      "outputs": [
        {
          "output_type": "stream",
          "name": "stdout",
          "text": [
            "61.68752353976654\n"
          ]
        }
      ]
    },
    {
      "cell_type": "code",
      "metadata": {
        "id": "df647b27"
      },
      "source": [
        "predictions.to_csv(\"1D_Bi_LSTM_61_modified.csv\", index=False)"
      ],
      "id": "df647b27",
      "execution_count": 50,
      "outputs": []
    }
  ]
}